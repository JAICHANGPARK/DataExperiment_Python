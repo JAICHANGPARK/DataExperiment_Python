{
 "cells": [
  {
   "cell_type": "code",
   "execution_count": 1,
   "metadata": {},
   "outputs": [],
   "source": [
    "import pandas as pd\n",
    "import numpy as np\n",
    "import seaborn as sns"
   ]
  },
  {
   "cell_type": "code",
   "execution_count": 2,
   "metadata": {},
   "outputs": [],
   "source": [
    "import matplotlib.pyplot as plt\n",
    "%matplotlib inline"
   ]
  },
  {
   "cell_type": "code",
   "execution_count": 3,
   "metadata": {},
   "outputs": [],
   "source": [
    "import platform\n",
    "path = \"c:/Windows/Fonts/malgun.ttf\"\n",
    "from matplotlib import font_manager, rc\n",
    "if platform.system() == 'Darwin':\n",
    "    rc('font', family='AppleGothic')\n",
    "elif platform.system() == 'Windows':\n",
    "    font_name = font_manager.FontProperties(fname=path).get_name()\n",
    "    rc('font', family=font_name)\n",
    "else:\n",
    "    print('Unknown system... sorry~~~~')    \n",
    "\n",
    "plt.rcParams['axes.unicode_minus'] = False"
   ]
  },
  {
   "cell_type": "code",
   "execution_count": 4,
   "metadata": {},
   "outputs": [],
   "source": [
    "# 엑셀 데이터를 읽어온다\n",
    "low = pd.read_excel('./result/low_beef_include.xlsx')\n",
    "# 엑셀 데이터를 읽어온다\n",
    "mid = pd.read_excel('./result/mid_beef_include.xlsx')\n",
    "high =  pd.read_excel('./result/high_beef_include.xlsx')"
   ]
  },
  {
   "cell_type": "code",
   "execution_count": 5,
   "metadata": {
    "scrolled": true
   },
   "outputs": [
    {
     "name": "stdout",
     "output_type": "stream",
     "text": [
      "<class 'pandas.core.frame.DataFrame'>\n",
      "Int64Index: 60 entries, 2 to 970\n",
      "Data columns (total 10 columns):\n",
      "번호           60 non-null int64\n",
      "식품군          60 non-null object\n",
      "식품이름         60 non-null object\n",
      "1회제공량 (g)    60 non-null float64\n",
      "열량 (kcal)    60 non-null int64\n",
      "탄수화물 (g)     60 non-null float64\n",
      "단백질 (g)      60 non-null float64\n",
      "지방 (g)       60 non-null float64\n",
      "Error        60 non-null float64\n",
      "survived     60 non-null bool\n",
      "dtypes: bool(1), float64(5), int64(2), object(2)\n",
      "memory usage: 4.7+ KB\n"
     ]
    }
   ],
   "source": [
    "low.info()"
   ]
  },
  {
   "cell_type": "code",
   "execution_count": null,
   "metadata": {},
   "outputs": [],
   "source": []
  },
  {
   "cell_type": "code",
   "execution_count": 7,
   "metadata": {},
   "outputs": [],
   "source": [
    "for i in low['번호']:\n",
    "    if i =='\\n':\n",
    "        print(i)"
   ]
  },
  {
   "cell_type": "code",
   "execution_count": 8,
   "metadata": {
    "scrolled": true
   },
   "outputs": [
    {
     "name": "stdout",
     "output_type": "stream",
     "text": [
      "<class 'pandas.core.frame.DataFrame'>\n",
      "Int64Index: 37 entries, 9 to 966\n",
      "Data columns (total 10 columns):\n",
      "번호           37 non-null int64\n",
      "식품군          37 non-null object\n",
      "식품이름         37 non-null object\n",
      "1회제공량 (g)    37 non-null float64\n",
      "열량 (kcal)    37 non-null int64\n",
      "탄수화물 (g)     37 non-null float64\n",
      "단백질 (g)      37 non-null float64\n",
      "지방 (g)       37 non-null float64\n",
      "Error        37 non-null float64\n",
      "survived     37 non-null bool\n",
      "dtypes: bool(1), float64(5), int64(2), object(2)\n",
      "memory usage: 2.9+ KB\n"
     ]
    }
   ],
   "source": [
    "mid.info()"
   ]
  },
  {
   "cell_type": "code",
   "execution_count": 9,
   "metadata": {},
   "outputs": [
    {
     "name": "stdout",
     "output_type": "stream",
     "text": [
      "<class 'pandas.core.frame.DataFrame'>\n",
      "Int64Index: 31 entries, 0 to 921\n",
      "Data columns (total 10 columns):\n",
      "번호           31 non-null int64\n",
      "식품군          31 non-null object\n",
      "식품이름         31 non-null object\n",
      "1회제공량 (g)    31 non-null float64\n",
      "열량 (kcal)    31 non-null int64\n",
      "탄수화물 (g)     31 non-null float64\n",
      "단백질 (g)      31 non-null float64\n",
      "지방 (g)       31 non-null float64\n",
      "Error        31 non-null float64\n",
      "survived     31 non-null bool\n",
      "dtypes: bool(1), float64(5), int64(2), object(2)\n",
      "memory usage: 2.5+ KB\n"
     ]
    }
   ],
   "source": [
    "high.info()"
   ]
  },
  {
   "cell_type": "code",
   "execution_count": 10,
   "metadata": {},
   "outputs": [],
   "source": [
    "low['kind'] = 'LOW'\n",
    "mid['kind'] = 'MID'\n",
    "high['kind'] = 'LHIGH'"
   ]
  },
  {
   "cell_type": "markdown",
   "metadata": {},
   "source": [
    "# 중복 데이터를 확인하기 위해 3개의 출력 결과를 합친다"
   ]
  },
  {
   "cell_type": "code",
   "execution_count": null,
   "metadata": {},
   "outputs": [],
   "source": [
    "low = low.reset_index()\n",
    "del low['index']\n",
    "mid = mid.reset_index()\n",
    "del mid['index']\n",
    "high= high.reset_index()\n",
    "del high['index']"
   ]
  },
  {
   "cell_type": "code",
   "execution_count": null,
   "metadata": {},
   "outputs": [],
   "source": [
    "sum_table = pd.concat([low, mid, high],sort=False, keys=['HIGH','MID','LOW'])"
   ]
  },
  {
   "cell_type": "code",
   "execution_count": null,
   "metadata": {},
   "outputs": [],
   "source": [
    "sum_table.info()"
   ]
  },
  {
   "cell_type": "code",
   "execution_count": null,
   "metadata": {},
   "outputs": [],
   "source": [
    "sum_table.describe()"
   ]
  },
  {
   "cell_type": "code",
   "execution_count": null,
   "metadata": {},
   "outputs": [],
   "source": [
    "sum_table.head()"
   ]
  },
  {
   "cell_type": "code",
   "execution_count": null,
   "metadata": {},
   "outputs": [],
   "source": [
    "sum_table.index"
   ]
  },
  {
   "cell_type": "code",
   "execution_count": null,
   "metadata": {},
   "outputs": [],
   "source": [
    "sum_table.index.labels[0]"
   ]
  },
  {
   "cell_type": "code",
   "execution_count": null,
   "metadata": {},
   "outputs": [],
   "source": [
    "type(sum_table.index)"
   ]
  },
  {
   "cell_type": "code",
   "execution_count": null,
   "metadata": {},
   "outputs": [],
   "source": [
    "sum_table.head()"
   ]
  },
  {
   "cell_type": "code",
   "execution_count": null,
   "metadata": {},
   "outputs": [],
   "source": [
    "sum_table.to_excel(\"tmp_check_duplicate_beef.xlsx\")"
   ]
  },
  {
   "cell_type": "code",
   "execution_count": null,
   "metadata": {},
   "outputs": [],
   "source": [
    "dup = sum_table.duplicated([\"식품이름\"])"
   ]
  },
  {
   "cell_type": "code",
   "execution_count": null,
   "metadata": {},
   "outputs": [],
   "source": [
    "type(dup)"
   ]
  },
  {
   "cell_type": "code",
   "execution_count": null,
   "metadata": {},
   "outputs": [],
   "source": [
    "for i,k in enumerate(dup):\n",
    "    if k:\n",
    "        print(i)\n",
    "    else:\n",
    "        pass"
   ]
  },
  {
   "cell_type": "code",
   "execution_count": null,
   "metadata": {},
   "outputs": [],
   "source": [
    "a = sum_table.index.levels[0].tolist()"
   ]
  },
  {
   "cell_type": "code",
   "execution_count": null,
   "metadata": {},
   "outputs": [],
   "source": [
    "a = np.array(a)"
   ]
  },
  {
   "cell_type": "code",
   "execution_count": null,
   "metadata": {},
   "outputs": [],
   "source": [
    "a = a.astype(\"str\")"
   ]
  },
  {
   "cell_type": "code",
   "execution_count": null,
   "metadata": {},
   "outputs": [],
   "source": [
    "a"
   ]
  },
  {
   "cell_type": "code",
   "execution_count": null,
   "metadata": {
    "scrolled": false
   },
   "outputs": [],
   "source": [
    "type(sum_table.index.labels[0])"
   ]
  },
  {
   "cell_type": "code",
   "execution_count": null,
   "metadata": {},
   "outputs": [],
   "source": [
    "color_mapping  = np.array(sum_table.index.labels[0].tolist())"
   ]
  },
  {
   "cell_type": "code",
   "execution_count": null,
   "metadata": {},
   "outputs": [],
   "source": [
    "color_mapping = color_mapping.astype('str')"
   ]
  },
  {
   "cell_type": "code",
   "execution_count": null,
   "metadata": {},
   "outputs": [],
   "source": [
    "print(color_mapping)"
   ]
  },
  {
   "cell_type": "code",
   "execution_count": null,
   "metadata": {},
   "outputs": [],
   "source": [
    "reset_index_color = []\n",
    "for i in color_mapping:\n",
    "    reset_index_color.append(i)"
   ]
  },
  {
   "cell_type": "code",
   "execution_count": null,
   "metadata": {},
   "outputs": [],
   "source": [
    "g = sns.pairplot(sum_table, palette=\"husl\")"
   ]
  },
  {
   "cell_type": "code",
   "execution_count": null,
   "metadata": {},
   "outputs": [],
   "source": [
    "sum_table.index."
   ]
  },
  {
   "cell_type": "markdown",
   "metadata": {},
   "source": [
    "# 방법 2"
   ]
  },
  {
   "cell_type": "code",
   "execution_count": 11,
   "metadata": {},
   "outputs": [],
   "source": [
    "sum_table = pd.concat([low, mid, high])"
   ]
  },
  {
   "cell_type": "code",
   "execution_count": 12,
   "metadata": {
    "scrolled": true
   },
   "outputs": [
    {
     "data": {
      "text/html": [
       "<div>\n",
       "<style scoped>\n",
       "    .dataframe tbody tr th:only-of-type {\n",
       "        vertical-align: middle;\n",
       "    }\n",
       "\n",
       "    .dataframe tbody tr th {\n",
       "        vertical-align: top;\n",
       "    }\n",
       "\n",
       "    .dataframe thead th {\n",
       "        text-align: right;\n",
       "    }\n",
       "</style>\n",
       "<table border=\"1\" class=\"dataframe\">\n",
       "  <thead>\n",
       "    <tr style=\"text-align: right;\">\n",
       "      <th></th>\n",
       "      <th>번호</th>\n",
       "      <th>식품군</th>\n",
       "      <th>식품이름</th>\n",
       "      <th>1회제공량 (g)</th>\n",
       "      <th>열량 (kcal)</th>\n",
       "      <th>탄수화물 (g)</th>\n",
       "      <th>단백질 (g)</th>\n",
       "      <th>지방 (g)</th>\n",
       "      <th>Error</th>\n",
       "      <th>survived</th>\n",
       "      <th>kind</th>\n",
       "    </tr>\n",
       "  </thead>\n",
       "  <tbody>\n",
       "    <tr>\n",
       "      <th>2</th>\n",
       "      <td>2148</td>\n",
       "      <td>육류 및 그 제품</td>\n",
       "      <td>거위 부산물, 간, 생것</td>\n",
       "      <td>37.593985</td>\n",
       "      <td>50</td>\n",
       "      <td>2.375940</td>\n",
       "      <td>6.154135</td>\n",
       "      <td>1.609023</td>\n",
       "      <td>-1.398496</td>\n",
       "      <td>True</td>\n",
       "      <td>LOW</td>\n",
       "    </tr>\n",
       "    <tr>\n",
       "      <th>7</th>\n",
       "      <td>2156</td>\n",
       "      <td>육류 및 그 제품</td>\n",
       "      <td>고래고기 가공(기타), 붉은살, 염장품</td>\n",
       "      <td>33.112583</td>\n",
       "      <td>50</td>\n",
       "      <td>0.033113</td>\n",
       "      <td>8.079470</td>\n",
       "      <td>2.052980</td>\n",
       "      <td>0.927152</td>\n",
       "      <td>True</td>\n",
       "      <td>LOW</td>\n",
       "    </tr>\n",
       "    <tr>\n",
       "      <th>28</th>\n",
       "      <td>2196</td>\n",
       "      <td>육류 및 그 제품</td>\n",
       "      <td>닭 부산물, 간, 삶은것</td>\n",
       "      <td>29.940120</td>\n",
       "      <td>50</td>\n",
       "      <td>0.260479</td>\n",
       "      <td>7.323353</td>\n",
       "      <td>1.949102</td>\n",
       "      <td>-2.122754</td>\n",
       "      <td>True</td>\n",
       "      <td>LOW</td>\n",
       "    </tr>\n",
       "    <tr>\n",
       "      <th>56</th>\n",
       "      <td>2251</td>\n",
       "      <td>육류 및 그 제품</td>\n",
       "      <td>닭고기, 토종닭, 다리, 생것</td>\n",
       "      <td>41.322314</td>\n",
       "      <td>50</td>\n",
       "      <td>0.371901</td>\n",
       "      <td>7.809917</td>\n",
       "      <td>2.024793</td>\n",
       "      <td>0.950413</td>\n",
       "      <td>True</td>\n",
       "      <td>LOW</td>\n",
       "    </tr>\n",
       "    <tr>\n",
       "      <th>77</th>\n",
       "      <td>2289</td>\n",
       "      <td>육류 및 그 제품</td>\n",
       "      <td>돼지 가공(햄), 등심</td>\n",
       "      <td>39.370079</td>\n",
       "      <td>50</td>\n",
       "      <td>2.322835</td>\n",
       "      <td>6.496063</td>\n",
       "      <td>1.653543</td>\n",
       "      <td>0.157480</td>\n",
       "      <td>True</td>\n",
       "      <td>LOW</td>\n",
       "    </tr>\n",
       "  </tbody>\n",
       "</table>\n",
       "</div>"
      ],
      "text/plain": [
       "      번호        식품군                    식품이름  1회제공량 (g)  열량 (kcal)  탄수화물 (g)  \\\n",
       "2   2148  육류 및 그 제품          거위 부산물, 간, 생것   37.593985         50  2.375940   \n",
       "7   2156  육류 및 그 제품  고래고기 가공(기타), 붉은살, 염장품   33.112583         50  0.033113   \n",
       "28  2196  육류 및 그 제품          닭 부산물, 간, 삶은것   29.940120         50  0.260479   \n",
       "56  2251  육류 및 그 제품       닭고기, 토종닭, 다리, 생것   41.322314         50  0.371901   \n",
       "77  2289  육류 및 그 제품           돼지 가공(햄), 등심   39.370079         50  2.322835   \n",
       "\n",
       "     단백질 (g)    지방 (g)     Error  survived kind  \n",
       "2   6.154135  1.609023 -1.398496      True  LOW  \n",
       "7   8.079470  2.052980  0.927152      True  LOW  \n",
       "28  7.323353  1.949102 -2.122754      True  LOW  \n",
       "56  7.809917  2.024793  0.950413      True  LOW  \n",
       "77  6.496063  1.653543  0.157480      True  LOW  "
      ]
     },
     "execution_count": 12,
     "metadata": {},
     "output_type": "execute_result"
    }
   ],
   "source": [
    "sum_table.head()"
   ]
  },
  {
   "cell_type": "code",
   "execution_count": 13,
   "metadata": {},
   "outputs": [
    {
     "data": {
      "text/html": [
       "<div>\n",
       "<style scoped>\n",
       "    .dataframe tbody tr th:only-of-type {\n",
       "        vertical-align: middle;\n",
       "    }\n",
       "\n",
       "    .dataframe tbody tr th {\n",
       "        vertical-align: top;\n",
       "    }\n",
       "\n",
       "    .dataframe thead th {\n",
       "        text-align: right;\n",
       "    }\n",
       "</style>\n",
       "<table border=\"1\" class=\"dataframe\">\n",
       "  <thead>\n",
       "    <tr style=\"text-align: right;\">\n",
       "      <th></th>\n",
       "      <th>번호</th>\n",
       "      <th>탄수화물 (g)</th>\n",
       "      <th>단백질 (g)</th>\n",
       "      <th>지방 (g)</th>\n",
       "      <th>kind</th>\n",
       "    </tr>\n",
       "  </thead>\n",
       "  <tbody>\n",
       "    <tr>\n",
       "      <th>0</th>\n",
       "      <td>2148</td>\n",
       "      <td>2.375940</td>\n",
       "      <td>6.154135</td>\n",
       "      <td>1.609023</td>\n",
       "      <td>LOW</td>\n",
       "    </tr>\n",
       "    <tr>\n",
       "      <th>1</th>\n",
       "      <td>2156</td>\n",
       "      <td>0.033113</td>\n",
       "      <td>8.079470</td>\n",
       "      <td>2.052980</td>\n",
       "      <td>LOW</td>\n",
       "    </tr>\n",
       "    <tr>\n",
       "      <th>2</th>\n",
       "      <td>2196</td>\n",
       "      <td>0.260479</td>\n",
       "      <td>7.323353</td>\n",
       "      <td>1.949102</td>\n",
       "      <td>LOW</td>\n",
       "    </tr>\n",
       "    <tr>\n",
       "      <th>3</th>\n",
       "      <td>2251</td>\n",
       "      <td>0.371901</td>\n",
       "      <td>7.809917</td>\n",
       "      <td>2.024793</td>\n",
       "      <td>LOW</td>\n",
       "    </tr>\n",
       "    <tr>\n",
       "      <th>4</th>\n",
       "      <td>2289</td>\n",
       "      <td>2.322835</td>\n",
       "      <td>6.496063</td>\n",
       "      <td>1.653543</td>\n",
       "      <td>LOW</td>\n",
       "    </tr>\n",
       "  </tbody>\n",
       "</table>\n",
       "</div>"
      ],
      "text/plain": [
       "     번호  탄수화물 (g)   단백질 (g)    지방 (g) kind\n",
       "0  2148  2.375940  6.154135  1.609023  LOW\n",
       "1  2156  0.033113  8.079470  2.052980  LOW\n",
       "2  2196  0.260479  7.323353  1.949102  LOW\n",
       "3  2251  0.371901  7.809917  2.024793  LOW\n",
       "4  2289  2.322835  6.496063  1.653543  LOW"
      ]
     },
     "execution_count": 13,
     "metadata": {},
     "output_type": "execute_result"
    }
   ],
   "source": [
    "cut_data = sum_table.reset_index()\n",
    "cut_data  = cut_data[['번호', '탄수화물 (g)', '단백질 (g)', '지방 (g)','kind']]\n",
    "cut_data.head()"
   ]
  },
  {
   "cell_type": "code",
   "execution_count": 16,
   "metadata": {
    "scrolled": false
   },
   "outputs": [
    {
     "data": {
      "image/png": "[encoded data removed]",
      "text/plain": [
       "<Figure size 785.375x720 with 20 Axes>"
      ]
     },
     "metadata": {},
     "output_type": "display_data"
    }
   ],
   "source": [
    "g = sns.pairplot(cut_data, hue = 'kind', palette=\"husl\")"
   ]
  },
  {
   "cell_type": "code",
   "execution_count": null,
   "metadata": {},
   "outputs": [],
   "source": []
  }
 ],
 "metadata": {
  "kernelspec": {
   "display_name": "Python 3",
   "language": "python",
   "name": "python3"
  },
  "language_info": {
   "codemirror_mode": {
    "name": "ipython",
    "version": 3
   },
   "file_extension": ".py",
   "mimetype": "text/x-python",
   "name": "python",
   "nbconvert_exporter": "python",
   "pygments_lexer": "ipython3",
   "version": "3.5.2"
  }
 },
 "nbformat": 4,
 "nbformat_minor": 2
}
