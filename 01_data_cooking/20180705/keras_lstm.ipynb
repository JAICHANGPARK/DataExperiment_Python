{
 "cells": [
  {
   "cell_type": "code",
   "execution_count": 1,
   "metadata": {},
   "outputs": [],
   "source": [
    "import numpy as np"
   ]
  },
  {
   "cell_type": "code",
   "execution_count": 5,
   "metadata": {},
   "outputs": [
    {
     "data": {
      "text/plain": [
       "array([   0,    1,    2, ..., 1597, 1598, 1599])"
      ]
     },
     "execution_count": 5,
     "metadata": {},
     "output_type": "execute_result"
    }
   ],
   "source": [
    "np.arange(1600)"
   ]
  },
  {
   "cell_type": "code",
   "execution_count": 2,
   "metadata": {},
   "outputs": [],
   "source": [
    "signal_data = np.cos(np.arange(1600)*(20*np.pi/1000))[:,None]"
   ]
  },
  {
   "cell_type": "code",
   "execution_count": 3,
   "metadata": {},
   "outputs": [
    {
     "data": {
      "text/plain": [
       "array([[1.        ],\n",
       "       [0.99802673],\n",
       "       [0.9921147 ],\n",
       "       ...,\n",
       "       [0.98228725],\n",
       "       [0.9921147 ],\n",
       "       [0.99802673]])"
      ]
     },
     "execution_count": 3,
     "metadata": {},
     "output_type": "execute_result"
    }
   ],
   "source": [
    "signal_data"
   ]
  },
  {
   "cell_type": "code",
   "execution_count": 6,
   "metadata": {},
   "outputs": [
    {
     "data": {
      "image/png": "[encoded data removed]",
      "text/plain": [
       "<Figure size 432x288 with 1 Axes>"
      ]
     },
     "metadata": {},
     "output_type": "display_data"
    }
   ],
   "source": [
    "%matplotlib inline\n",
    "import matplotlib.pyplot as plt\n",
    "\n",
    "plot_x = np.arange(1600)\n",
    "plot_y = signal_data\n",
    "plt.plot(plot_x, plot_y, 'r')\n",
    "plt.show()"
   ]
  },
  {
   "cell_type": "code",
   "execution_count": 7,
   "metadata": {},
   "outputs": [],
   "source": [
    "def create_dataset(signal_data, look_back=1):\n",
    "    dataX, dataY = [], []\n",
    "    for i in range(len(signal_data)-look_back):\n",
    "        dataX.append(signal_data[i:(i+look_back), 0])\n",
    "        dataY.append(signal_data[i + look_back, 0])\n",
    "    return np.array(dataX), np.array(dataY)"
   ]
  },
  {
   "cell_type": "code",
   "execution_count": 8,
   "metadata": {},
   "outputs": [],
   "source": [
    "from sklearn.preprocessing import MinMaxScaler"
   ]
  },
  {
   "cell_type": "code",
   "execution_count": 9,
   "metadata": {},
   "outputs": [],
   "source": [
    "look_back = 40\n",
    "\n",
    "# 데이터 전처리\n",
    "scaler = MinMaxScaler(feature_range=(0, 1))\n",
    "signal_data = scaler.fit_transform(signal_data)"
   ]
  },
  {
   "cell_type": "code",
   "execution_count": 10,
   "metadata": {},
   "outputs": [
    {
     "data": {
      "text/plain": [
       "array([[1.        ],\n",
       "       [0.99901336],\n",
       "       [0.99605735],\n",
       "       ...,\n",
       "       [0.99114363],\n",
       "       [0.99605735],\n",
       "       [0.99901336]])"
      ]
     },
     "execution_count": 10,
     "metadata": {},
     "output_type": "execute_result"
    }
   ],
   "source": [
    "signal_data"
   ]
  },
  {
   "cell_type": "code",
   "execution_count": 11,
   "metadata": {},
   "outputs": [],
   "source": [
    "# 데이터 분리\n",
    "train = signal_data[0:800]\n",
    "val = signal_data[800:1200]\n",
    "test = signal_data[1200:]"
   ]
  },
  {
   "cell_type": "code",
   "execution_count": 13,
   "metadata": {},
   "outputs": [
    {
     "data": {
      "text/plain": [
       "(1600, 1)"
      ]
     },
     "execution_count": 13,
     "metadata": {},
     "output_type": "execute_result"
    }
   ],
   "source": [
    "signal_data.shape"
   ]
  },
  {
   "cell_type": "code",
   "execution_count": 12,
   "metadata": {},
   "outputs": [
    {
     "data": {
      "text/plain": [
       "(800, 1)"
      ]
     },
     "execution_count": 12,
     "metadata": {},
     "output_type": "execute_result"
    }
   ],
   "source": [
    "train.shape"
   ]
  },
  {
   "cell_type": "code",
   "execution_count": 24,
   "metadata": {},
   "outputs": [],
   "source": [
    "x_train, y_train = create_dataset(train, look_back)\n",
    "x_val, y_val = create_dataset(val, look_back)\n",
    "x_test, y_test = create_dataset(test, look_back)"
   ]
  },
  {
   "cell_type": "code",
   "execution_count": 15,
   "metadata": {},
   "outputs": [
    {
     "data": {
      "text/plain": [
       "array([[1.        , 0.99901336, 0.99605735, ..., 0.15772645, 0.13551569,\n",
       "        0.11474338],\n",
       "       [0.99901336, 0.99605735, 0.99114363, ..., 0.13551569, 0.11474338,\n",
       "        0.0954915 ],\n",
       "       [0.99605735, 0.99114363, 0.98429158, ..., 0.11474338, 0.0954915 ,\n",
       "        0.07783604],\n",
       "       ...,\n",
       "       [0.04758647, 0.06184666, 0.07783604, ..., 0.96488824, 0.97552826,\n",
       "        0.98429158],\n",
       "       [0.06184666, 0.07783604, 0.0954915 , ..., 0.97552826, 0.98429158,\n",
       "        0.99114363],\n",
       "       [0.07783604, 0.0954915 , 0.11474338, ..., 0.98429158, 0.99114363,\n",
       "        0.99605735]])"
      ]
     },
     "execution_count": 15,
     "metadata": {},
     "output_type": "execute_result"
    }
   ],
   "source": [
    "x_train"
   ]
  },
  {
   "cell_type": "code",
   "execution_count": 16,
   "metadata": {},
   "outputs": [
    {
     "data": {
      "text/plain": [
       "(760, 40)"
      ]
     },
     "execution_count": 16,
     "metadata": {},
     "output_type": "execute_result"
    }
   ],
   "source": [
    "x_train.shape"
   ]
  },
  {
   "cell_type": "code",
   "execution_count": 22,
   "metadata": {},
   "outputs": [
    {
     "name": "stdout",
     "output_type": "stream",
     "text": [
      "[0.0954915]\n",
      "0.09549150281252633\n"
     ]
    }
   ],
   "source": [
    "print(signal_data[40])\n",
    "print(y_train[0])"
   ]
  },
  {
   "cell_type": "code",
   "execution_count": 28,
   "metadata": {},
   "outputs": [],
   "source": [
    "# 데이터셋 전처리\n",
    "x_train = np.reshape(x_train, (x_train.shape[0], x_train.shape[1], 1))\n",
    "x_val = np.reshape(x_val, (x_val.shape[0], x_val.shape[1], 1))\n",
    "x_test = np.reshape(x_test, (x_test.shape[0], x_test.shape[1], 1))"
   ]
  },
  {
   "cell_type": "code",
   "execution_count": 29,
   "metadata": {},
   "outputs": [
    {
     "data": {
      "text/plain": [
       "(760, 40, 1)"
      ]
     },
     "execution_count": 29,
     "metadata": {},
     "output_type": "execute_result"
    }
   ],
   "source": [
    "x_train.shape"
   ]
  },
  {
   "cell_type": "code",
   "execution_count": 30,
   "metadata": {},
   "outputs": [],
   "source": [
    "x_train = np.squeeze(x_train)\n",
    "x_val = np.squeeze(x_val)\n",
    "x_test = np.squeeze(x_test)"
   ]
  },
  {
   "cell_type": "code",
   "execution_count": 32,
   "metadata": {},
   "outputs": [
    {
     "data": {
      "text/plain": [
       "(760, 40)"
      ]
     },
     "execution_count": 32,
     "metadata": {},
     "output_type": "execute_result"
    }
   ],
   "source": [
    "x_train.shape"
   ]
  },
  {
   "cell_type": "code",
   "execution_count": 26,
   "metadata": {},
   "outputs": [
    {
     "name": "stderr",
     "output_type": "stream",
     "text": [
      "Using TensorFlow backend.\n"
     ]
    }
   ],
   "source": [
    "from keras.models import Sequential\n",
    "from keras.layers import Dense, LSTM, Dropout"
   ]
  },
  {
   "cell_type": "markdown",
   "metadata": {},
   "source": [
    "## 다층 퍼셉트론 "
   ]
  },
  {
   "cell_type": "code",
   "execution_count": 27,
   "metadata": {},
   "outputs": [],
   "source": [
    "model = Sequential()\n",
    "model.add(Dense(32,input_dim=40,activation=\"relu\"))\n",
    "model.add(Dropout(0.3))\n",
    "for i in range(2):\n",
    "    model.add(Dense(32,activation=\"relu\"))\n",
    "    model.add(Dropout(0.3))\n",
    "model.add(Dense(1))"
   ]
  },
  {
   "cell_type": "code",
   "execution_count": 33,
   "metadata": {},
   "outputs": [],
   "source": [
    "# 3. 모델 학습과정 설정하기\n",
    "model.compile(loss='mean_squared_error', optimizer='adagrad')"
   ]
  },
  {
   "cell_type": "code",
   "execution_count": 34,
   "metadata": {},
   "outputs": [
    {
     "name": "stdout",
     "output_type": "stream",
     "text": [
      "Train on 760 samples, validate on 360 samples\n",
      "Epoch 1/200\n",
      "760/760 [==============================] - 6s 8ms/step - loss: 0.1704 - val_loss: 0.0252\n",
      "Epoch 2/200\n",
      "760/760 [==============================] - 0s 130us/step - loss: 0.0564 - val_loss: 0.0089\n",
      "Epoch 3/200\n",
      "760/760 [==============================] - 0s 134us/step - loss: 0.0444 - val_loss: 0.0047\n",
      "Epoch 4/200\n",
      "760/760 [==============================] - 0s 134us/step - loss: 0.0407 - val_loss: 0.0107\n",
      "Epoch 5/200\n",
      "760/760 [==============================] - 0s 134us/step - loss: 0.0341 - val_loss: 0.0118\n",
      "Epoch 6/200\n",
      "760/760 [==============================] - 0s 129us/step - loss: 0.0388 - val_loss: 0.0138\n",
      "Epoch 7/200\n",
      "760/760 [==============================] - 0s 130us/step - loss: 0.0317 - val_loss: 0.0135\n",
      "Epoch 8/200\n",
      "760/760 [==============================] - 0s 136us/step - loss: 0.0282 - val_loss: 0.0031\n",
      "Epoch 9/200\n",
      "760/760 [==============================] - 0s 142us/step - loss: 0.0294 - val_loss: 0.0099\n",
      "Epoch 10/200\n",
      "760/760 [==============================] - 0s 152us/step - loss: 0.0274 - val_loss: 0.0028\n",
      "Epoch 11/200\n",
      "760/760 [==============================] - 0s 140us/step - loss: 0.0286 - val_loss: 0.0088\n",
      "Epoch 12/200\n",
      "760/760 [==============================] - 0s 130us/step - loss: 0.0321 - val_loss: 0.0066\n",
      "Epoch 13/200\n",
      "760/760 [==============================] - 0s 129us/step - loss: 0.0237 - val_loss: 0.0037\n",
      "Epoch 14/200\n",
      "760/760 [==============================] - 0s 134us/step - loss: 0.0261 - val_loss: 0.0085\n",
      "Epoch 15/200\n",
      "760/760 [==============================] - 0s 133us/step - loss: 0.0218 - val_loss: 0.0086\n",
      "Epoch 16/200\n",
      "760/760 [==============================] - 0s 134us/step - loss: 0.0238 - val_loss: 0.0041\n",
      "Epoch 17/200\n",
      "760/760 [==============================] - 0s 152us/step - loss: 0.0232 - val_loss: 0.0074\n",
      "Epoch 18/200\n",
      "760/760 [==============================] - 0s 148us/step - loss: 0.0235 - val_loss: 0.0061\n",
      "Epoch 19/200\n",
      "760/760 [==============================] - 0s 134us/step - loss: 0.0221 - val_loss: 0.0041\n",
      "Epoch 20/200\n",
      "760/760 [==============================] - 0s 131us/step - loss: 0.0219 - val_loss: 0.0056\n",
      "Epoch 21/200\n",
      "760/760 [==============================] - 0s 130us/step - loss: 0.0206 - val_loss: 0.0053\n",
      "Epoch 22/200\n",
      "760/760 [==============================] - 0s 148us/step - loss: 0.0231 - val_loss: 0.0070\n",
      "Epoch 23/200\n",
      "760/760 [==============================] - 0s 150us/step - loss: 0.0232 - val_loss: 0.0054\n",
      "Epoch 24/200\n",
      "760/760 [==============================] - 0s 136us/step - loss: 0.0217 - val_loss: 0.0063\n",
      "Epoch 25/200\n",
      "760/760 [==============================] - 0s 133us/step - loss: 0.0199 - val_loss: 0.0073\n",
      "Epoch 26/200\n",
      "760/760 [==============================] - 0s 131us/step - loss: 0.0196 - val_loss: 0.0058\n",
      "Epoch 27/200\n",
      "760/760 [==============================] - 0s 133us/step - loss: 0.0199 - val_loss: 0.0037\n",
      "Epoch 28/200\n",
      "760/760 [==============================] - 0s 127us/step - loss: 0.0188 - val_loss: 0.0059\n",
      "Epoch 29/200\n",
      "760/760 [==============================] - 0s 138us/step - loss: 0.0192 - val_loss: 0.0076\n",
      "Epoch 30/200\n",
      "760/760 [==============================] - 0s 134us/step - loss: 0.0164 - val_loss: 0.0058\n",
      "Epoch 31/200\n",
      "760/760 [==============================] - 0s 129us/step - loss: 0.0171 - val_loss: 0.0066\n",
      "Epoch 32/200\n",
      "760/760 [==============================] - 0s 138us/step - loss: 0.0171 - val_loss: 0.0068\n",
      "Epoch 33/200\n",
      "760/760 [==============================] - 0s 136us/step - loss: 0.0179 - val_loss: 0.0063\n",
      "Epoch 34/200\n",
      "760/760 [==============================] - 0s 143us/step - loss: 0.0179 - val_loss: 0.0071\n",
      "Epoch 35/200\n",
      "760/760 [==============================] - 0s 139us/step - loss: 0.0172 - val_loss: 0.0061\n",
      "Epoch 36/200\n",
      "760/760 [==============================] - 0s 134us/step - loss: 0.0164 - val_loss: 0.0062\n",
      "Epoch 37/200\n",
      "760/760 [==============================] - 0s 144us/step - loss: 0.0153 - val_loss: 0.0077\n",
      "Epoch 38/200\n",
      "760/760 [==============================] - 0s 151us/step - loss: 0.0161 - val_loss: 0.0069\n",
      "Epoch 39/200\n",
      "760/760 [==============================] - 0s 148us/step - loss: 0.0178 - val_loss: 0.0076\n",
      "Epoch 40/200\n",
      "760/760 [==============================] - 0s 147us/step - loss: 0.0168 - val_loss: 0.0061\n",
      "Epoch 41/200\n",
      "760/760 [==============================] - 0s 147us/step - loss: 0.0172 - val_loss: 0.0049\n",
      "Epoch 42/200\n",
      "760/760 [==============================] - 0s 228us/step - loss: 0.0170 - val_loss: 0.0061\n",
      "Epoch 43/200\n",
      "760/760 [==============================] - 0s 202us/step - loss: 0.0172 - val_loss: 0.0071\n",
      "Epoch 44/200\n",
      "760/760 [==============================] - 0s 256us/step - loss: 0.0203 - val_loss: 0.0072\n",
      "Epoch 45/200\n",
      "760/760 [==============================] - 0s 240us/step - loss: 0.0148 - val_loss: 0.0065\n",
      "Epoch 46/200\n",
      "760/760 [==============================] - 0s 256us/step - loss: 0.0165 - val_loss: 0.0095\n",
      "Epoch 47/200\n",
      "760/760 [==============================] - 0s 222us/step - loss: 0.0162 - val_loss: 0.0072\n",
      "Epoch 48/200\n",
      "760/760 [==============================] - 0s 245us/step - loss: 0.0161 - val_loss: 0.0076\n",
      "Epoch 49/200\n",
      "760/760 [==============================] - 0s 224us/step - loss: 0.0165 - val_loss: 0.0059\n",
      "Epoch 50/200\n",
      "760/760 [==============================] - 0s 146us/step - loss: 0.0164 - val_loss: 0.0063\n",
      "Epoch 51/200\n",
      "760/760 [==============================] - 0s 130us/step - loss: 0.0159 - val_loss: 0.0066\n",
      "Epoch 52/200\n",
      "760/760 [==============================] - 0s 140us/step - loss: 0.0160 - val_loss: 0.0053\n",
      "Epoch 53/200\n",
      "760/760 [==============================] - 0s 147us/step - loss: 0.0159 - val_loss: 0.0086\n",
      "Epoch 54/200\n",
      "760/760 [==============================] - 0s 134us/step - loss: 0.0165 - val_loss: 0.0075\n",
      "Epoch 55/200\n",
      "760/760 [==============================] - 0s 139us/step - loss: 0.0136 - val_loss: 0.0062\n",
      "Epoch 56/200\n",
      "760/760 [==============================] - 0s 144us/step - loss: 0.0162 - val_loss: 0.0072\n",
      "Epoch 57/200\n",
      "760/760 [==============================] - 0s 148us/step - loss: 0.0158 - val_loss: 0.0070\n",
      "Epoch 58/200\n",
      "760/760 [==============================] - 0s 143us/step - loss: 0.0136 - val_loss: 0.0069\n",
      "Epoch 59/200\n",
      "760/760 [==============================] - 0s 131us/step - loss: 0.0144 - val_loss: 0.0077\n",
      "Epoch 60/200\n",
      "760/760 [==============================] - 0s 131us/step - loss: 0.0140 - val_loss: 0.0065\n",
      "Epoch 61/200\n",
      "760/760 [==============================] - 0s 131us/step - loss: 0.0136 - val_loss: 0.0068\n",
      "Epoch 62/200\n",
      "760/760 [==============================] - 0s 138us/step - loss: 0.0135 - val_loss: 0.0073\n",
      "Epoch 63/200\n",
      "760/760 [==============================] - 0s 135us/step - loss: 0.0148 - val_loss: 0.0076\n",
      "Epoch 64/200\n",
      "760/760 [==============================] - 0s 151us/step - loss: 0.0141 - val_loss: 0.0074\n",
      "Epoch 65/200\n",
      "760/760 [==============================] - 0s 136us/step - loss: 0.0155 - val_loss: 0.0065\n",
      "Epoch 66/200\n",
      "760/760 [==============================] - 0s 146us/step - loss: 0.0127 - val_loss: 0.0077\n",
      "Epoch 67/200\n",
      "760/760 [==============================] - 0s 143us/step - loss: 0.0136 - val_loss: 0.0082\n",
      "Epoch 68/200\n",
      "760/760 [==============================] - 0s 154us/step - loss: 0.0135 - val_loss: 0.0088\n",
      "Epoch 69/200\n",
      "760/760 [==============================] - 0s 148us/step - loss: 0.0134 - val_loss: 0.0089\n",
      "Epoch 70/200\n",
      "760/760 [==============================] - 0s 152us/step - loss: 0.0138 - val_loss: 0.0089\n",
      "Epoch 71/200\n",
      "760/760 [==============================] - 0s 140us/step - loss: 0.0133 - val_loss: 0.0075\n",
      "Epoch 72/200\n",
      "760/760 [==============================] - 0s 143us/step - loss: 0.0129 - val_loss: 0.0081\n",
      "Epoch 73/200\n",
      "760/760 [==============================] - 0s 171us/step - loss: 0.0124 - val_loss: 0.0088\n",
      "Epoch 74/200\n",
      "760/760 [==============================] - 0s 144us/step - loss: 0.0138 - val_loss: 0.0087\n",
      "Epoch 75/200\n",
      "760/760 [==============================] - 0s 135us/step - loss: 0.0134 - val_loss: 0.0086\n",
      "Epoch 76/200\n",
      "760/760 [==============================] - 0s 139us/step - loss: 0.0129 - val_loss: 0.0075\n",
      "Epoch 77/200\n",
      "760/760 [==============================] - 0s 133us/step - loss: 0.0135 - val_loss: 0.0087\n",
      "Epoch 78/200\n",
      "760/760 [==============================] - 0s 129us/step - loss: 0.0124 - val_loss: 0.0083\n",
      "Epoch 79/200\n"
     ]
    },
    {
     "name": "stdout",
     "output_type": "stream",
     "text": [
      "760/760 [==============================] - 0s 138us/step - loss: 0.0118 - val_loss: 0.0082\n",
      "Epoch 80/200\n",
      "760/760 [==============================] - 0s 130us/step - loss: 0.0129 - val_loss: 0.0077\n",
      "Epoch 81/200\n",
      "760/760 [==============================] - 0s 138us/step - loss: 0.0135 - val_loss: 0.0073\n",
      "Epoch 82/200\n",
      "760/760 [==============================] - 0s 144us/step - loss: 0.0137 - val_loss: 0.0081\n",
      "Epoch 83/200\n",
      "760/760 [==============================] - 0s 148us/step - loss: 0.0116 - val_loss: 0.0092\n",
      "Epoch 84/200\n",
      "760/760 [==============================] - 0s 138us/step - loss: 0.0129 - val_loss: 0.0080\n",
      "Epoch 85/200\n",
      "760/760 [==============================] - 0s 125us/step - loss: 0.0134 - val_loss: 0.0070\n",
      "Epoch 86/200\n",
      "760/760 [==============================] - 0s 129us/step - loss: 0.0123 - val_loss: 0.0090\n",
      "Epoch 87/200\n",
      "760/760 [==============================] - 0s 130us/step - loss: 0.0132 - val_loss: 0.0087\n",
      "Epoch 88/200\n",
      "760/760 [==============================] - 0s 140us/step - loss: 0.0122 - val_loss: 0.0083\n",
      "Epoch 89/200\n",
      "760/760 [==============================] - 0s 148us/step - loss: 0.0132 - val_loss: 0.0087\n",
      "Epoch 90/200\n",
      "760/760 [==============================] - 0s 130us/step - loss: 0.0110 - val_loss: 0.0081\n",
      "Epoch 91/200\n",
      "760/760 [==============================] - 0s 136us/step - loss: 0.0117 - val_loss: 0.0084\n",
      "Epoch 92/200\n",
      "760/760 [==============================] - 0s 126us/step - loss: 0.0112 - val_loss: 0.0085\n",
      "Epoch 93/200\n",
      "760/760 [==============================] - 0s 130us/step - loss: 0.0140 - val_loss: 0.0087\n",
      "Epoch 94/200\n",
      "760/760 [==============================] - 0s 125us/step - loss: 0.0128 - val_loss: 0.0092\n",
      "Epoch 95/200\n",
      "760/760 [==============================] - 0s 143us/step - loss: 0.0124 - val_loss: 0.0088\n",
      "Epoch 96/200\n",
      "760/760 [==============================] - 0s 175us/step - loss: 0.0107 - val_loss: 0.0082\n",
      "Epoch 97/200\n",
      "760/760 [==============================] - 0s 231us/step - loss: 0.0127 - val_loss: 0.0083\n",
      "Epoch 98/200\n",
      "760/760 [==============================] - 0s 220us/step - loss: 0.0124 - val_loss: 0.0078\n",
      "Epoch 99/200\n",
      "760/760 [==============================] - 0s 234us/step - loss: 0.0133 - val_loss: 0.0078\n",
      "Epoch 100/200\n",
      "760/760 [==============================] - 0s 199us/step - loss: 0.0117 - val_loss: 0.0089\n",
      "Epoch 101/200\n",
      "760/760 [==============================] - 0s 238us/step - loss: 0.0121 - val_loss: 0.0077\n",
      "Epoch 102/200\n",
      "760/760 [==============================] - 0s 257us/step - loss: 0.0118 - val_loss: 0.0091\n",
      "Epoch 103/200\n",
      "760/760 [==============================] - 0s 218us/step - loss: 0.0125 - val_loss: 0.0074\n",
      "Epoch 104/200\n",
      "760/760 [==============================] - 0s 168us/step - loss: 0.0126 - val_loss: 0.0078\n",
      "Epoch 105/200\n",
      "760/760 [==============================] - 0s 136us/step - loss: 0.0113 - val_loss: 0.0083\n",
      "Epoch 106/200\n",
      "760/760 [==============================] - 0s 136us/step - loss: 0.0112 - val_loss: 0.0073\n",
      "Epoch 107/200\n",
      "760/760 [==============================] - 0s 136us/step - loss: 0.0102 - val_loss: 0.0085\n",
      "Epoch 108/200\n",
      "760/760 [==============================] - 0s 133us/step - loss: 0.0103 - val_loss: 0.0077\n",
      "Epoch 109/200\n",
      "760/760 [==============================] - 0s 136us/step - loss: 0.0112 - val_loss: 0.0084\n",
      "Epoch 110/200\n",
      "760/760 [==============================] - 0s 147us/step - loss: 0.0121 - val_loss: 0.0081\n",
      "Epoch 111/200\n",
      "760/760 [==============================] - 0s 165us/step - loss: 0.0116 - val_loss: 0.0083\n",
      "Epoch 112/200\n",
      "760/760 [==============================] - 0s 138us/step - loss: 0.0118 - val_loss: 0.0085\n",
      "Epoch 113/200\n",
      "760/760 [==============================] - 0s 133us/step - loss: 0.0100 - val_loss: 0.0085\n",
      "Epoch 114/200\n",
      "760/760 [==============================] - 0s 139us/step - loss: 0.0108 - val_loss: 0.0077\n",
      "Epoch 115/200\n",
      "760/760 [==============================] - 0s 134us/step - loss: 0.0113 - val_loss: 0.0082\n",
      "Epoch 116/200\n",
      "760/760 [==============================] - 0s 144us/step - loss: 0.0112 - val_loss: 0.0081\n",
      "Epoch 117/200\n",
      "760/760 [==============================] - 0s 139us/step - loss: 0.0105 - val_loss: 0.0089\n",
      "Epoch 118/200\n",
      "760/760 [==============================] - 0s 140us/step - loss: 0.0096 - val_loss: 0.0090\n",
      "Epoch 119/200\n",
      "760/760 [==============================] - 0s 139us/step - loss: 0.0131 - val_loss: 0.0081\n",
      "Epoch 120/200\n",
      "760/760 [==============================] - 0s 135us/step - loss: 0.0121 - val_loss: 0.0083\n",
      "Epoch 121/200\n",
      "760/760 [==============================] - 0s 171us/step - loss: 0.0107 - val_loss: 0.0077\n",
      "Epoch 122/200\n",
      "760/760 [==============================] - 0s 176us/step - loss: 0.0113 - val_loss: 0.0089\n",
      "Epoch 123/200\n",
      "760/760 [==============================] - 0s 146us/step - loss: 0.0107 - val_loss: 0.0101\n",
      "Epoch 124/200\n",
      "760/760 [==============================] - 0s 142us/step - loss: 0.0110 - val_loss: 0.0089\n",
      "Epoch 125/200\n",
      "760/760 [==============================] - 0s 131us/step - loss: 0.0108 - val_loss: 0.0085\n",
      "Epoch 126/200\n",
      "760/760 [==============================] - 0s 130us/step - loss: 0.0111 - val_loss: 0.0087\n",
      "Epoch 127/200\n",
      "760/760 [==============================] - 0s 136us/step - loss: 0.0110 - val_loss: 0.0081\n",
      "Epoch 128/200\n",
      "760/760 [==============================] - 0s 135us/step - loss: 0.0109 - val_loss: 0.0085\n",
      "Epoch 129/200\n",
      "760/760 [==============================] - 0s 134us/step - loss: 0.0102 - val_loss: 0.0090\n",
      "Epoch 130/200\n",
      "760/760 [==============================] - 0s 130us/step - loss: 0.0122 - val_loss: 0.0102\n",
      "Epoch 131/200\n",
      "760/760 [==============================] - 0s 135us/step - loss: 0.0102 - val_loss: 0.0094\n",
      "Epoch 132/200\n",
      "760/760 [==============================] - 0s 134us/step - loss: 0.0100 - val_loss: 0.0091\n",
      "Epoch 133/200\n",
      "760/760 [==============================] - 0s 144us/step - loss: 0.0104 - val_loss: 0.0089\n",
      "Epoch 134/200\n",
      "760/760 [==============================] - 0s 150us/step - loss: 0.0100 - val_loss: 0.0092\n",
      "Epoch 135/200\n",
      "760/760 [==============================] - 0s 155us/step - loss: 0.0113 - val_loss: 0.0089\n",
      "Epoch 136/200\n",
      "760/760 [==============================] - 0s 161us/step - loss: 0.0104 - val_loss: 0.0089\n",
      "Epoch 137/200\n",
      "760/760 [==============================] - 0s 154us/step - loss: 0.0104 - val_loss: 0.0091\n",
      "Epoch 138/200\n",
      "760/760 [==============================] - 0s 159us/step - loss: 0.0105 - val_loss: 0.0082\n",
      "Epoch 139/200\n",
      "760/760 [==============================] - ETA: 0s - loss: 0.011 - 0s 152us/step - loss: 0.0113 - val_loss: 0.0092\n",
      "Epoch 140/200\n",
      "760/760 [==============================] - 0s 156us/step - loss: 0.0098 - val_loss: 0.0098\n",
      "Epoch 141/200\n",
      "760/760 [==============================] - 0s 154us/step - loss: 0.0105 - val_loss: 0.0091\n",
      "Epoch 142/200\n",
      "760/760 [==============================] - 0s 150us/step - loss: 0.0111 - val_loss: 0.0086\n",
      "Epoch 143/200\n",
      "760/760 [==============================] - 0s 139us/step - loss: 0.0112 - val_loss: 0.0089\n",
      "Epoch 144/200\n",
      "760/760 [==============================] - 0s 131us/step - loss: 0.0104 - val_loss: 0.0097\n",
      "Epoch 145/200\n",
      "760/760 [==============================] - 0s 140us/step - loss: 0.0104 - val_loss: 0.0095\n",
      "Epoch 146/200\n",
      "760/760 [==============================] - 0s 135us/step - loss: 0.0111 - val_loss: 0.0097\n",
      "Epoch 147/200\n",
      "760/760 [==============================] - 0s 142us/step - loss: 0.0101 - val_loss: 0.0091\n",
      "Epoch 148/200\n",
      "760/760 [==============================] - 0s 159us/step - loss: 0.0102 - val_loss: 0.0100\n",
      "Epoch 149/200\n",
      "760/760 [==============================] - 0s 175us/step - loss: 0.0100 - val_loss: 0.0095\n",
      "Epoch 150/200\n",
      "760/760 [==============================] - 0s 220us/step - loss: 0.0095 - val_loss: 0.0088\n",
      "Epoch 151/200\n",
      "760/760 [==============================] - 0s 223us/step - loss: 0.0102 - val_loss: 0.0085\n",
      "Epoch 152/200\n",
      "760/760 [==============================] - 0s 251us/step - loss: 0.0114 - val_loss: 0.0089\n",
      "Epoch 153/200\n",
      "760/760 [==============================] - 0s 213us/step - loss: 0.0099 - val_loss: 0.0082\n",
      "Epoch 154/200\n",
      "760/760 [==============================] - 0s 219us/step - loss: 0.0096 - val_loss: 0.0081\n",
      "Epoch 155/200\n",
      "760/760 [==============================] - 0s 276us/step - loss: 0.0104 - val_loss: 0.0103\n",
      "Epoch 156/200\n",
      "760/760 [==============================] - 0s 160us/step - loss: 0.0099 - val_loss: 0.0092\n",
      "Epoch 157/200\n"
     ]
    },
    {
     "name": "stdout",
     "output_type": "stream",
     "text": [
      "760/760 [==============================] - 0s 154us/step - loss: 0.0110 - val_loss: 0.0093\n",
      "Epoch 158/200\n",
      "760/760 [==============================] - 0s 148us/step - loss: 0.0096 - val_loss: 0.0093\n",
      "Epoch 159/200\n",
      "760/760 [==============================] - 0s 136us/step - loss: 0.0102 - val_loss: 0.0091\n",
      "Epoch 160/200\n",
      "760/760 [==============================] - 0s 129us/step - loss: 0.0089 - val_loss: 0.0096\n",
      "Epoch 161/200\n",
      "760/760 [==============================] - 0s 127us/step - loss: 0.0099 - val_loss: 0.0094\n",
      "Epoch 162/200\n",
      "760/760 [==============================] - 0s 129us/step - loss: 0.0090 - val_loss: 0.0093\n",
      "Epoch 163/200\n",
      "760/760 [==============================] - 0s 129us/step - loss: 0.0089 - val_loss: 0.0092\n",
      "Epoch 164/200\n",
      "760/760 [==============================] - 0s 129us/step - loss: 0.0089 - val_loss: 0.0097\n",
      "Epoch 165/200\n",
      "760/760 [==============================] - 0s 126us/step - loss: 0.0108 - val_loss: 0.0092\n",
      "Epoch 166/200\n",
      "760/760 [==============================] - 0s 147us/step - loss: 0.0094 - val_loss: 0.0089\n",
      "Epoch 167/200\n",
      "760/760 [==============================] - 0s 150us/step - loss: 0.0097 - val_loss: 0.0097\n",
      "Epoch 168/200\n",
      "760/760 [==============================] - 0s 136us/step - loss: 0.0092 - val_loss: 0.0102\n",
      "Epoch 169/200\n",
      "760/760 [==============================] - 0s 127us/step - loss: 0.0100 - val_loss: 0.0100\n",
      "Epoch 170/200\n",
      "760/760 [==============================] - 0s 126us/step - loss: 0.0102 - val_loss: 0.0105\n",
      "Epoch 171/200\n",
      "760/760 [==============================] - 0s 131us/step - loss: 0.0093 - val_loss: 0.0100\n",
      "Epoch 172/200\n",
      "760/760 [==============================] - 0s 129us/step - loss: 0.0100 - val_loss: 0.0099\n",
      "Epoch 173/200\n",
      "760/760 [==============================] - 0s 138us/step - loss: 0.0096 - val_loss: 0.0099\n",
      "Epoch 174/200\n",
      "760/760 [==============================] - 0s 143us/step - loss: 0.0098 - val_loss: 0.0108\n",
      "Epoch 175/200\n",
      "760/760 [==============================] - 0s 147us/step - loss: 0.0097 - val_loss: 0.0106\n",
      "Epoch 176/200\n",
      "760/760 [==============================] - 0s 151us/step - loss: 0.0099 - val_loss: 0.0106\n",
      "Epoch 177/200\n",
      "760/760 [==============================] - 0s 147us/step - loss: 0.0091 - val_loss: 0.0098\n",
      "Epoch 178/200\n",
      "760/760 [==============================] - 0s 154us/step - loss: 0.0089 - val_loss: 0.0097\n",
      "Epoch 179/200\n",
      "760/760 [==============================] - 0s 142us/step - loss: 0.0092 - val_loss: 0.0096\n",
      "Epoch 180/200\n",
      "760/760 [==============================] - 0s 142us/step - loss: 0.0099 - val_loss: 0.0093\n",
      "Epoch 181/200\n",
      "760/760 [==============================] - 0s 143us/step - loss: 0.0103 - val_loss: 0.0086\n",
      "Epoch 182/200\n",
      "760/760 [==============================] - 0s 138us/step - loss: 0.0091 - val_loss: 0.0097\n",
      "Epoch 183/200\n",
      "760/760 [==============================] - 0s 134us/step - loss: 0.0100 - val_loss: 0.0098\n",
      "Epoch 184/200\n",
      "760/760 [==============================] - 0s 134us/step - loss: 0.0097 - val_loss: 0.0098\n",
      "Epoch 185/200\n",
      "760/760 [==============================] - 0s 159us/step - loss: 0.0101 - val_loss: 0.0090\n",
      "Epoch 186/200\n",
      "760/760 [==============================] - 0s 152us/step - loss: 0.0097 - val_loss: 0.0088\n",
      "Epoch 187/200\n",
      "760/760 [==============================] - 0s 150us/step - loss: 0.0087 - val_loss: 0.0098\n",
      "Epoch 188/200\n",
      "760/760 [==============================] - 0s 135us/step - loss: 0.0095 - val_loss: 0.0094\n",
      "Epoch 189/200\n",
      "760/760 [==============================] - 0s 139us/step - loss: 0.0091 - val_loss: 0.0095\n",
      "Epoch 190/200\n",
      "760/760 [==============================] - 0s 136us/step - loss: 0.0087 - val_loss: 0.0087\n",
      "Epoch 191/200\n",
      "760/760 [==============================] - 0s 134us/step - loss: 0.0094 - val_loss: 0.0099\n",
      "Epoch 192/200\n",
      "760/760 [==============================] - 0s 134us/step - loss: 0.0089 - val_loss: 0.0096\n",
      "Epoch 193/200\n",
      "760/760 [==============================] - 0s 130us/step - loss: 0.0096 - val_loss: 0.0093\n",
      "Epoch 194/200\n",
      "760/760 [==============================] - 0s 143us/step - loss: 0.0086 - val_loss: 0.0103\n",
      "Epoch 195/200\n",
      "760/760 [==============================] - 0s 131us/step - loss: 0.0099 - val_loss: 0.0105\n",
      "Epoch 196/200\n",
      "760/760 [==============================] - 0s 134us/step - loss: 0.0087 - val_loss: 0.0099\n",
      "Epoch 197/200\n",
      "760/760 [==============================] - 0s 127us/step - loss: 0.0097 - val_loss: 0.0094\n",
      "Epoch 198/200\n",
      "760/760 [==============================] - 0s 129us/step - loss: 0.0097 - val_loss: 0.0102\n",
      "Epoch 199/200\n",
      "760/760 [==============================] - 0s 136us/step - loss: 0.0088 - val_loss: 0.0101\n",
      "Epoch 200/200\n",
      "760/760 [==============================] - 0s 144us/step - loss: 0.0096 - val_loss: 0.0094\n"
     ]
    },
    {
     "data": {
      "image/png": "[encoded data removed]",
      "text/plain": [
       "<Figure size 432x288 with 1 Axes>"
      ]
     },
     "metadata": {},
     "output_type": "display_data"
    }
   ],
   "source": [
    "# 4. 모델 학습시키기\n",
    "hist = model.fit(x_train, y_train, epochs=200, batch_size=32, validation_data=(x_val, y_val))\n",
    "\n",
    "# 5. 학습과정 살펴보기\n",
    "plt.plot(hist.history['loss'])\n",
    "plt.plot(hist.history['val_loss'])\n",
    "plt.ylim(0.0, 0.15)\n",
    "plt.ylabel('loss')\n",
    "plt.xlabel('epoch')\n",
    "plt.legend(['train', 'val'], loc='upper left')\n",
    "plt.show()"
   ]
  },
  {
   "cell_type": "code",
   "execution_count": 36,
   "metadata": {},
   "outputs": [
    {
     "name": "stdout",
     "output_type": "stream",
     "text": [
      "Train Score:  0.009142909203901102\n"
     ]
    }
   ],
   "source": [
    "trainScore = model.evaluate(x_train, y_train, verbose=0)\n",
    "print('Train Score: ', trainScore)"
   ]
  },
  {
   "cell_type": "code",
   "execution_count": 37,
   "metadata": {},
   "outputs": [
    {
     "name": "stdout",
     "output_type": "stream",
     "text": [
      "Validataion Score:  0.009382207588189178\n"
     ]
    }
   ],
   "source": [
    "valScore = model.evaluate(x_val, y_val, verbose=0)\n",
    "print('Validataion Score: ', valScore)"
   ]
  },
  {
   "cell_type": "code",
   "execution_count": 38,
   "metadata": {},
   "outputs": [
    {
     "name": "stdout",
     "output_type": "stream",
     "text": [
      "Test Score:  0.009382207588189178\n"
     ]
    }
   ],
   "source": [
    "testScore = model.evaluate(x_test, y_test, verbose=0)\n",
    "print('Test Score: ', testScore)"
   ]
  },
  {
   "cell_type": "code",
   "execution_count": 41,
   "metadata": {},
   "outputs": [
    {
     "name": "stdout",
     "output_type": "stream",
     "text": [
      "(250, 1)\n"
     ]
    }
   ],
   "source": [
    "# 7. 모델 사용하기\n",
    "look_ahead = 250\n",
    "xhat = x_test[0, None]\n",
    "predictions = np.zeros((look_ahead,1))\n",
    "print(predictions.shape)"
   ]
  },
  {
   "cell_type": "code",
   "execution_count": 43,
   "metadata": {},
   "outputs": [
    {
     "data": {
      "text/plain": [
       "(1, 40)"
      ]
     },
     "execution_count": 43,
     "metadata": {},
     "output_type": "execute_result"
    }
   ],
   "source": [
    "xhat.shape"
   ]
  },
  {
   "cell_type": "code",
   "execution_count": 44,
   "metadata": {},
   "outputs": [],
   "source": [
    "for i in range(look_ahead):\n",
    "    prediction = model.predict(xhat, batch_size=32)\n",
    "    predictions[i] = prediction\n",
    "    xhat = np.hstack([xhat[:,1:],prediction])"
   ]
  },
  {
   "cell_type": "code",
   "execution_count": 45,
   "metadata": {},
   "outputs": [
    {
     "data": {
      "image/png": "[encoded data removed]",
      "text/plain": [
       "<Figure size 864x360 with 1 Axes>"
      ]
     },
     "metadata": {},
     "output_type": "display_data"
    }
   ],
   "source": [
    "plt.figure(figsize=(12,5))\n",
    "plt.plot(np.arange(look_ahead),predictions,'r',label=\"prediction\")\n",
    "plt.plot(np.arange(look_ahead),y_test[:look_ahead],label=\"test function\")\n",
    "plt.legend()\n",
    "plt.show()"
   ]
  },
  {
   "cell_type": "markdown",
   "metadata": {},
   "source": [
    "## LSTM (순환 신경망)"
   ]
  },
  {
   "cell_type": "code",
   "execution_count": 46,
   "metadata": {},
   "outputs": [],
   "source": [
    "from keras.models import Sequential\n",
    "from keras.layers import Dense, LSTM, Dropout\n",
    "from sklearn.preprocessing import MinMaxScaler"
   ]
  },
  {
   "cell_type": "code",
   "execution_count": 50,
   "metadata": {},
   "outputs": [],
   "source": [
    "look_back = 40\n",
    "\n",
    "# 1. 데이터셋 생성하기\n",
    "signal_data = np.cos(np.arange(1600)*(20*np.pi/1000))[:,None]\n",
    "\n",
    "# 데이터 전처리\n",
    "scaler = MinMaxScaler(feature_range=(0, 1))\n",
    "signal_data = scaler.fit_transform(signal_data)\n",
    "\n",
    "# 데이터 분리\n",
    "train = signal_data[0:800]\n",
    "val = signal_data[800:1200]\n",
    "test = signal_data[1200:]\n",
    "\n",
    "# 데이터셋 생성\n",
    "x_train, y_train = create_dataset(train, look_back)\n",
    "x_val, y_val = create_dataset(val, look_back)\n",
    "x_test, y_test = create_dataset(test, look_back)\n",
    "\n",
    "# 데이터셋 전처리\n",
    "x_train = np.reshape(x_train, (x_train.shape[0], x_train.shape[1], 1))\n",
    "x_val = np.reshape(x_val, (x_val.shape[0], x_val.shape[1], 1))\n",
    "x_test = np.reshape(x_test, (x_test.shape[0], x_test.shape[1], 1))"
   ]
  },
  {
   "cell_type": "code",
   "execution_count": 51,
   "metadata": {},
   "outputs": [],
   "source": [
    "# 2. 모델 구성하기\n",
    "model = Sequential()\n",
    "model.add(LSTM(32, input_shape=(None, 1)))\n",
    "model.add(Dropout(0.3))\n",
    "model.add(Dense(1))"
   ]
  },
  {
   "cell_type": "code",
   "execution_count": 52,
   "metadata": {},
   "outputs": [],
   "source": [
    "# 3. 모델 학습과정 설정하기\n",
    "model.compile(loss='mean_squared_error', optimizer='adam')"
   ]
  },
  {
   "cell_type": "code",
   "execution_count": 53,
   "metadata": {},
   "outputs": [
    {
     "name": "stdout",
     "output_type": "stream",
     "text": [
      "Train on 760 samples, validate on 360 samples\n",
      "Epoch 1/200\n",
      "760/760 [==============================] - 2s 3ms/step - loss: 0.1459 - val_loss: 0.0370\n",
      "Epoch 2/200\n",
      "760/760 [==============================] - 1s 2ms/step - loss: 0.0364 - val_loss: 0.0227\n",
      "Epoch 3/200\n",
      "760/760 [==============================] - 2s 2ms/step - loss: 0.0267 - val_loss: 0.0151\n",
      "Epoch 4/200\n",
      "760/760 [==============================] - 1s 2ms/step - loss: 0.0202 - val_loss: 0.0088\n",
      "Epoch 5/200\n",
      "760/760 [==============================] - 2s 2ms/step - loss: 0.0150 - val_loss: 0.0045\n",
      "Epoch 6/200\n",
      "760/760 [==============================] - 1s 2ms/step - loss: 0.0097 - val_loss: 0.0021\n",
      "Epoch 7/200\n",
      "760/760 [==============================] - 2s 2ms/step - loss: 0.0095 - val_loss: 0.0018\n",
      "Epoch 8/200\n",
      "760/760 [==============================] - 2s 2ms/step - loss: 0.0067 - val_loss: 9.9995e-04\n",
      "Epoch 9/200\n",
      "760/760 [==============================] - 1s 2ms/step - loss: 0.0076 - val_loss: 7.8009e-04\n",
      "Epoch 10/200\n",
      "760/760 [==============================] - 2s 2ms/step - loss: 0.0072 - val_loss: 8.9833e-04\n",
      "Epoch 11/200\n",
      "760/760 [==============================] - 2s 2ms/step - loss: 0.0073 - val_loss: 5.5973e-04\n",
      "Epoch 12/200\n",
      "760/760 [==============================] - 1s 2ms/step - loss: 0.0065 - val_loss: 6.8023e-04\n",
      "Epoch 13/200\n",
      "760/760 [==============================] - 2s 2ms/step - loss: 0.0062 - val_loss: 3.7755e-04\n",
      "Epoch 14/200\n",
      "760/760 [==============================] - 2s 2ms/step - loss: 0.0066 - val_loss: 2.2600e-04\n",
      "Epoch 15/200\n",
      "760/760 [==============================] - 2s 2ms/step - loss: 0.0061 - val_loss: 1.7431e-04\n",
      "Epoch 16/200\n",
      "760/760 [==============================] - 1s 2ms/step - loss: 0.0061 - val_loss: 0.0010\n",
      "Epoch 17/200\n",
      "760/760 [==============================] - 1s 2ms/step - loss: 0.0064 - val_loss: 1.3504e-04\n",
      "Epoch 18/200\n",
      "760/760 [==============================] - 1s 2ms/step - loss: 0.0059 - val_loss: 1.7082e-04\n",
      "Epoch 19/200\n",
      "760/760 [==============================] - 2s 2ms/step - loss: 0.0060 - val_loss: 1.1131e-04\n",
      "Epoch 20/200\n",
      "760/760 [==============================] - 1s 2ms/step - loss: 0.0060 - val_loss: 0.0012\n",
      "Epoch 21/200\n",
      "760/760 [==============================] - 2s 2ms/step - loss: 0.0066 - val_loss: 1.5875e-04\n",
      "Epoch 22/200\n",
      "760/760 [==============================] - 2s 2ms/step - loss: 0.0056 - val_loss: 1.0905e-04\n",
      "Epoch 23/200\n",
      "760/760 [==============================] - 2s 2ms/step - loss: 0.0047 - val_loss: 5.9727e-04\n",
      "Epoch 24/200\n",
      "760/760 [==============================] - 1s 2ms/step - loss: 0.0054 - val_loss: 7.8652e-05\n",
      "Epoch 25/200\n",
      "760/760 [==============================] - 2s 2ms/step - loss: 0.0053 - val_loss: 5.7014e-05\n",
      "Epoch 26/200\n",
      "760/760 [==============================] - 2s 2ms/step - loss: 0.0046 - val_loss: 5.9681e-05\n",
      "Epoch 27/200\n",
      "760/760 [==============================] - 1s 2ms/step - loss: 0.0049 - val_loss: 5.6335e-05\n",
      "Epoch 28/200\n",
      "760/760 [==============================] - 1s 2ms/step - loss: 0.0047 - val_loss: 2.6538e-04\n",
      "Epoch 29/200\n",
      "760/760 [==============================] - 2s 2ms/step - loss: 0.0046 - val_loss: 2.7355e-04\n",
      "Epoch 30/200\n",
      "760/760 [==============================] - 1s 2ms/step - loss: 0.0045 - val_loss: 7.1126e-04\n",
      "Epoch 31/200\n",
      "760/760 [==============================] - 1s 2ms/step - loss: 0.0040 - val_loss: 5.6583e-05\n",
      "Epoch 32/200\n",
      "760/760 [==============================] - 2s 2ms/step - loss: 0.0044 - val_loss: 1.0436e-04\n",
      "Epoch 33/200\n",
      "760/760 [==============================] - 2s 2ms/step - loss: 0.0043 - val_loss: 3.4446e-04\n",
      "Epoch 34/200\n",
      "760/760 [==============================] - 1s 2ms/step - loss: 0.0044 - val_loss: 2.0749e-04\n",
      "Epoch 35/200\n",
      "760/760 [==============================] - 2s 2ms/step - loss: 0.0044 - val_loss: 2.5168e-04\n",
      "Epoch 36/200\n",
      "760/760 [==============================] - 2s 2ms/step - loss: 0.0050 - val_loss: 4.5964e-05\n",
      "Epoch 37/200\n",
      "760/760 [==============================] - 1s 2ms/step - loss: 0.0044 - val_loss: 2.9685e-04\n",
      "Epoch 38/200\n",
      "760/760 [==============================] - 2s 2ms/step - loss: 0.0049 - val_loss: 1.8805e-04\n",
      "Epoch 39/200\n",
      "760/760 [==============================] - 2s 2ms/step - loss: 0.0047 - val_loss: 1.1407e-04\n",
      "Epoch 40/200\n",
      "760/760 [==============================] - 2s 2ms/step - loss: 0.0044 - val_loss: 1.7602e-04\n",
      "Epoch 41/200\n",
      "760/760 [==============================] - 2s 2ms/step - loss: 0.0037 - val_loss: 5.9737e-05\n",
      "Epoch 42/200\n",
      "760/760 [==============================] - 2s 2ms/step - loss: 0.0042 - val_loss: 3.3125e-04\n",
      "Epoch 43/200\n",
      "760/760 [==============================] - 2s 2ms/step - loss: 0.0041 - val_loss: 7.7900e-05\n",
      "Epoch 44/200\n",
      "760/760 [==============================] - 1s 2ms/step - loss: 0.0041 - val_loss: 9.2117e-04\n",
      "Epoch 45/200\n",
      "760/760 [==============================] - 2s 2ms/step - loss: 0.0039 - val_loss: 3.0598e-04\n",
      "Epoch 46/200\n",
      "760/760 [==============================] - 2s 2ms/step - loss: 0.0042 - val_loss: 5.3081e-05\n",
      "Epoch 47/200\n",
      "760/760 [==============================] - 2s 2ms/step - loss: 0.0035 - val_loss: 1.3319e-04\n",
      "Epoch 48/200\n",
      "760/760 [==============================] - 1s 2ms/step - loss: 0.0034 - val_loss: 3.7273e-05\n",
      "Epoch 49/200\n",
      "760/760 [==============================] - 1s 2ms/step - loss: 0.0043 - val_loss: 1.8852e-04\n",
      "Epoch 50/200\n",
      "760/760 [==============================] - 1s 2ms/step - loss: 0.0040 - val_loss: 6.4057e-05\n",
      "Epoch 51/200\n",
      "760/760 [==============================] - 2s 2ms/step - loss: 0.0036 - val_loss: 4.5887e-05\n",
      "Epoch 52/200\n",
      "760/760 [==============================] - 2s 2ms/step - loss: 0.0035 - val_loss: 3.5383e-05\n",
      "Epoch 53/200\n",
      "760/760 [==============================] - 1s 2ms/step - loss: 0.0038 - val_loss: 1.7885e-04\n",
      "Epoch 54/200\n",
      "760/760 [==============================] - 1s 2ms/step - loss: 0.0031 - val_loss: 8.9336e-05\n",
      "Epoch 55/200\n",
      "760/760 [==============================] - 2s 2ms/step - loss: 0.0038 - val_loss: 6.5865e-04\n",
      "Epoch 56/200\n",
      "760/760 [==============================] - 2s 2ms/step - loss: 0.0031 - val_loss: 3.3944e-05\n",
      "Epoch 57/200\n",
      "760/760 [==============================] - 1s 2ms/step - loss: 0.0032 - val_loss: 3.3145e-04\n",
      "Epoch 58/200\n",
      "760/760 [==============================] - 2s 2ms/step - loss: 0.0032 - val_loss: 2.2428e-04\n",
      "Epoch 59/200\n",
      "760/760 [==============================] - 2s 2ms/step - loss: 0.0034 - val_loss: 1.2268e-04\n",
      "Epoch 60/200\n",
      "760/760 [==============================] - 1s 2ms/step - loss: 0.0030 - val_loss: 4.6073e-05\n",
      "Epoch 61/200\n",
      "760/760 [==============================] - 1s 2ms/step - loss: 0.0030 - val_loss: 4.4645e-04\n",
      "Epoch 62/200\n",
      "760/760 [==============================] - 2s 2ms/step - loss: 0.0038 - val_loss: 2.0446e-04\n",
      "Epoch 63/200\n",
      "760/760 [==============================] - 2s 2ms/step - loss: 0.0033 - val_loss: 1.1492e-04\n",
      "Epoch 64/200\n",
      "760/760 [==============================] - 1s 2ms/step - loss: 0.0036 - val_loss: 1.7255e-04\n",
      "Epoch 65/200\n",
      "760/760 [==============================] - 2s 2ms/step - loss: 0.0033 - val_loss: 9.6566e-05\n",
      "Epoch 66/200\n",
      "760/760 [==============================] - 1s 2ms/step - loss: 0.0032 - val_loss: 5.6685e-05\n",
      "Epoch 67/200\n",
      "760/760 [==============================] - 2s 2ms/step - loss: 0.0029 - val_loss: 1.9641e-04\n",
      "Epoch 68/200\n",
      "760/760 [==============================] - 1s 2ms/step - loss: 0.0032 - val_loss: 3.8501e-04\n",
      "Epoch 69/200\n",
      "760/760 [==============================] - 1s 2ms/step - loss: 0.0033 - val_loss: 1.0367e-04\n",
      "Epoch 70/200\n",
      "760/760 [==============================] - 2s 2ms/step - loss: 0.0031 - val_loss: 2.4219e-04\n",
      "Epoch 71/200\n",
      "760/760 [==============================] - 1s 2ms/step - loss: 0.0035 - val_loss: 1.7901e-04\n",
      "Epoch 72/200\n",
      "760/760 [==============================] - 2s 2ms/step - loss: 0.0029 - val_loss: 9.4639e-05\n",
      "Epoch 73/200\n",
      "760/760 [==============================] - 1s 2ms/step - loss: 0.0033 - val_loss: 4.2498e-05\n",
      "Epoch 74/200\n",
      "760/760 [==============================] - 1s 2ms/step - loss: 0.0029 - val_loss: 8.7934e-05\n",
      "Epoch 75/200\n",
      "760/760 [==============================] - 2s 2ms/step - loss: 0.0027 - val_loss: 4.4719e-05\n",
      "Epoch 76/200\n",
      "760/760 [==============================] - 2s 2ms/step - loss: 0.0031 - val_loss: 7.5104e-05\n",
      "Epoch 77/200\n",
      "760/760 [==============================] - 2s 2ms/step - loss: 0.0027 - val_loss: 7.1395e-04\n",
      "Epoch 78/200\n"
     ]
    },
    {
     "name": "stdout",
     "output_type": "stream",
     "text": [
      "760/760 [==============================] - 1s 2ms/step - loss: 0.0030 - val_loss: 2.0799e-04\n",
      "Epoch 79/200\n",
      "760/760 [==============================] - 1s 2ms/step - loss: 0.0028 - val_loss: 1.6011e-04\n",
      "Epoch 80/200\n",
      "760/760 [==============================] - 1s 2ms/step - loss: 0.0031 - val_loss: 5.7163e-05\n",
      "Epoch 81/200\n",
      "760/760 [==============================] - 1s 2ms/step - loss: 0.0031 - val_loss: 1.9222e-04\n",
      "Epoch 82/200\n",
      "760/760 [==============================] - 1s 2ms/step - loss: 0.0027 - val_loss: 8.3079e-05\n",
      "Epoch 83/200\n",
      "760/760 [==============================] - 1s 2ms/step - loss: 0.0026 - val_loss: 7.5977e-05\n",
      "Epoch 84/200\n",
      "760/760 [==============================] - 1s 2ms/step - loss: 0.0031 - val_loss: 1.4811e-04\n",
      "Epoch 85/200\n",
      "760/760 [==============================] - 1s 2ms/step - loss: 0.0024 - val_loss: 5.2457e-05\n",
      "Epoch 86/200\n",
      "760/760 [==============================] - 1s 2ms/step - loss: 0.0027 - val_loss: 1.7838e-04\n",
      "Epoch 87/200\n",
      "760/760 [==============================] - 1s 2ms/step - loss: 0.0029 - val_loss: 3.9818e-05\n",
      "Epoch 88/200\n",
      "760/760 [==============================] - 1s 2ms/step - loss: 0.0024 - val_loss: 2.2137e-04\n",
      "Epoch 89/200\n",
      "760/760 [==============================] - 1s 2ms/step - loss: 0.0029 - val_loss: 3.9021e-04\n",
      "Epoch 90/200\n",
      "760/760 [==============================] - 1s 2ms/step - loss: 0.0029 - val_loss: 7.0919e-05\n",
      "Epoch 91/200\n",
      "760/760 [==============================] - 1s 2ms/step - loss: 0.0025 - val_loss: 2.1422e-04\n",
      "Epoch 92/200\n",
      "760/760 [==============================] - 1s 2ms/step - loss: 0.0031 - val_loss: 0.0013\n",
      "Epoch 93/200\n",
      "760/760 [==============================] - 1s 2ms/step - loss: 0.0026 - val_loss: 1.7594e-04\n",
      "Epoch 94/200\n",
      "760/760 [==============================] - 1s 2ms/step - loss: 0.0025 - val_loss: 2.6281e-05\n",
      "Epoch 95/200\n",
      "760/760 [==============================] - 1s 2ms/step - loss: 0.0025 - val_loss: 4.7438e-05\n",
      "Epoch 96/200\n",
      "760/760 [==============================] - 1s 2ms/step - loss: 0.0024 - val_loss: 7.6342e-05\n",
      "Epoch 97/200\n",
      "760/760 [==============================] - 1s 2ms/step - loss: 0.0021 - val_loss: 8.0357e-05\n",
      "Epoch 98/200\n",
      "760/760 [==============================] - 1s 2ms/step - loss: 0.0029 - val_loss: 3.8095e-04\n",
      "Epoch 99/200\n",
      "760/760 [==============================] - 1s 2ms/step - loss: 0.0028 - val_loss: 2.3731e-05\n",
      "Epoch 100/200\n",
      "760/760 [==============================] - 1s 2ms/step - loss: 0.0025 - val_loss: 1.7327e-04\n",
      "Epoch 101/200\n",
      "760/760 [==============================] - 1s 2ms/step - loss: 0.0026 - val_loss: 1.1822e-04\n",
      "Epoch 102/200\n",
      "760/760 [==============================] - 2s 2ms/step - loss: 0.0024 - val_loss: 5.8148e-05\n",
      "Epoch 103/200\n",
      "760/760 [==============================] - 1s 2ms/step - loss: 0.0021 - val_loss: 9.2293e-05\n",
      "Epoch 104/200\n",
      "760/760 [==============================] - 1s 2ms/step - loss: 0.0028 - val_loss: 3.7742e-04\n",
      "Epoch 105/200\n",
      "760/760 [==============================] - 1s 2ms/step - loss: 0.0023 - val_loss: 1.7540e-04\n",
      "Epoch 106/200\n",
      "760/760 [==============================] - 1s 2ms/step - loss: 0.0028 - val_loss: 4.7364e-04\n",
      "Epoch 107/200\n",
      "760/760 [==============================] - 1s 2ms/step - loss: 0.0022 - val_loss: 1.4815e-04\n",
      "Epoch 108/200\n",
      "760/760 [==============================] - 1s 2ms/step - loss: 0.0024 - val_loss: 6.3052e-05\n",
      "Epoch 109/200\n",
      "760/760 [==============================] - 1s 2ms/step - loss: 0.0025 - val_loss: 9.3623e-05\n",
      "Epoch 110/200\n",
      "760/760 [==============================] - 1s 2ms/step - loss: 0.0023 - val_loss: 1.3984e-04\n",
      "Epoch 111/200\n",
      "760/760 [==============================] - 1s 2ms/step - loss: 0.0023 - val_loss: 1.1629e-04\n",
      "Epoch 112/200\n",
      "760/760 [==============================] - 1s 2ms/step - loss: 0.0022 - val_loss: 4.2282e-05\n",
      "Epoch 113/200\n",
      "760/760 [==============================] - 1s 2ms/step - loss: 0.0023 - val_loss: 2.1659e-05\n",
      "Epoch 114/200\n",
      "760/760 [==============================] - 1s 2ms/step - loss: 0.0021 - val_loss: 7.7385e-04\n",
      "Epoch 115/200\n",
      "760/760 [==============================] - 1s 2ms/step - loss: 0.0024 - val_loss: 1.4949e-04\n",
      "Epoch 116/200\n",
      "760/760 [==============================] - 1s 2ms/step - loss: 0.0024 - val_loss: 6.8403e-05\n",
      "Epoch 117/200\n",
      "760/760 [==============================] - 1s 2ms/step - loss: 0.0021 - val_loss: 1.4766e-04\n",
      "Epoch 118/200\n",
      "760/760 [==============================] - 2s 2ms/step - loss: 0.0021 - val_loss: 1.1247e-04\n",
      "Epoch 119/200\n",
      "760/760 [==============================] - 1s 2ms/step - loss: 0.0025 - val_loss: 1.6853e-04\n",
      "Epoch 120/200\n",
      "760/760 [==============================] - 1s 2ms/step - loss: 0.0024 - val_loss: 5.4789e-05\n",
      "Epoch 121/200\n",
      "760/760 [==============================] - 1s 2ms/step - loss: 0.0019 - val_loss: 1.0222e-04\n",
      "Epoch 122/200\n",
      "760/760 [==============================] - 2s 2ms/step - loss: 0.0023 - val_loss: 2.9100e-05\n",
      "Epoch 123/200\n",
      "760/760 [==============================] - 2s 2ms/step - loss: 0.0019 - val_loss: 7.8923e-05\n",
      "Epoch 124/200\n",
      "760/760 [==============================] - 1s 2ms/step - loss: 0.0023 - val_loss: 1.1906e-04\n",
      "Epoch 125/200\n",
      "760/760 [==============================] - 1s 2ms/step - loss: 0.0023 - val_loss: 1.0863e-04\n",
      "Epoch 126/200\n",
      "760/760 [==============================] - 2s 2ms/step - loss: 0.0019 - val_loss: 5.1685e-05\n",
      "Epoch 127/200\n",
      "760/760 [==============================] - 1s 2ms/step - loss: 0.0022 - val_loss: 5.4338e-05\n",
      "Epoch 128/200\n",
      "760/760 [==============================] - 1s 2ms/step - loss: 0.0021 - val_loss: 8.8878e-05\n",
      "Epoch 129/200\n",
      "760/760 [==============================] - 1s 2ms/step - loss: 0.0021 - val_loss: 3.3990e-04\n",
      "Epoch 130/200\n",
      "760/760 [==============================] - 1s 2ms/step - loss: 0.0023 - val_loss: 1.9708e-05\n",
      "Epoch 131/200\n",
      "760/760 [==============================] - 2s 2ms/step - loss: 0.0021 - val_loss: 1.1921e-04\n",
      "Epoch 132/200\n",
      "760/760 [==============================] - 1s 2ms/step - loss: 0.0020 - val_loss: 1.4554e-04\n",
      "Epoch 133/200\n",
      "760/760 [==============================] - 1s 2ms/step - loss: 0.0021 - val_loss: 1.7183e-04\n",
      "Epoch 134/200\n",
      "760/760 [==============================] - 1s 2ms/step - loss: 0.0021 - val_loss: 4.7611e-05\n",
      "Epoch 135/200\n",
      "760/760 [==============================] - 1s 2ms/step - loss: 0.0020 - val_loss: 6.8720e-04\n",
      "Epoch 136/200\n",
      "760/760 [==============================] - 1s 2ms/step - loss: 0.0020 - val_loss: 9.0147e-05\n",
      "Epoch 137/200\n",
      "760/760 [==============================] - 1s 2ms/step - loss: 0.0020 - val_loss: 1.0511e-04\n",
      "Epoch 138/200\n",
      "760/760 [==============================] - 1s 2ms/step - loss: 0.0019 - val_loss: 3.5230e-05\n",
      "Epoch 139/200\n",
      "760/760 [==============================] - 1s 2ms/step - loss: 0.0020 - val_loss: 1.4111e-04\n",
      "Epoch 140/200\n",
      "760/760 [==============================] - 1s 2ms/step - loss: 0.0020 - val_loss: 9.7867e-05\n",
      "Epoch 141/200\n",
      "760/760 [==============================] - 1s 2ms/step - loss: 0.0020 - val_loss: 7.4774e-04\n",
      "Epoch 142/200\n",
      "760/760 [==============================] - 1s 2ms/step - loss: 0.0022 - val_loss: 6.3963e-05\n",
      "Epoch 143/200\n",
      "760/760 [==============================] - 2s 2ms/step - loss: 0.0020 - val_loss: 7.7951e-05\n",
      "Epoch 144/200\n",
      "760/760 [==============================] - 2s 2ms/step - loss: 0.0021 - val_loss: 9.6490e-05\n",
      "Epoch 145/200\n",
      "760/760 [==============================] - 2s 2ms/step - loss: 0.0018 - val_loss: 9.9280e-05\n",
      "Epoch 146/200\n",
      "760/760 [==============================] - 2s 2ms/step - loss: 0.0019 - val_loss: 3.8305e-04\n",
      "Epoch 147/200\n",
      "760/760 [==============================] - 1s 2ms/step - loss: 0.0020 - val_loss: 3.9377e-05\n",
      "Epoch 148/200\n",
      "760/760 [==============================] - 1s 2ms/step - loss: 0.0019 - val_loss: 1.3972e-04\n",
      "Epoch 149/200\n",
      "760/760 [==============================] - 1s 2ms/step - loss: 0.0018 - val_loss: 3.4838e-05\n",
      "Epoch 150/200\n",
      "760/760 [==============================] - 2s 2ms/step - loss: 0.0020 - val_loss: 3.7076e-05\n",
      "Epoch 151/200\n",
      "760/760 [==============================] - 2s 2ms/step - loss: 0.0019 - val_loss: 2.8545e-05\n",
      "Epoch 152/200\n",
      "760/760 [==============================] - 2s 2ms/step - loss: 0.0018 - val_loss: 2.6885e-05\n",
      "Epoch 153/200\n",
      "760/760 [==============================] - 1s 2ms/step - loss: 0.0018 - val_loss: 6.0991e-05\n",
      "Epoch 154/200\n",
      "760/760 [==============================] - 2s 2ms/step - loss: 0.0019 - val_loss: 1.0983e-04\n"
     ]
    },
    {
     "name": "stdout",
     "output_type": "stream",
     "text": [
      "Epoch 155/200\n",
      "760/760 [==============================] - 2s 2ms/step - loss: 0.0020 - val_loss: 7.2243e-05\n",
      "Epoch 156/200\n",
      "760/760 [==============================] - 1s 2ms/step - loss: 0.0019 - val_loss: 2.8491e-04\n",
      "Epoch 157/200\n",
      "760/760 [==============================] - 1s 2ms/step - loss: 0.0017 - val_loss: 1.0056e-04\n",
      "Epoch 158/200\n",
      "760/760 [==============================] - 1s 2ms/step - loss: 0.0020 - val_loss: 1.9268e-04\n",
      "Epoch 159/200\n",
      "760/760 [==============================] - 1s 2ms/step - loss: 0.0019 - val_loss: 9.9694e-05\n",
      "Epoch 160/200\n",
      "760/760 [==============================] - 1s 2ms/step - loss: 0.0017 - val_loss: 3.7907e-05\n",
      "Epoch 161/200\n",
      "760/760 [==============================] - 1s 2ms/step - loss: 0.0019 - val_loss: 2.5650e-04\n",
      "Epoch 162/200\n",
      "760/760 [==============================] - 1s 2ms/step - loss: 0.0019 - val_loss: 2.7324e-05\n",
      "Epoch 163/200\n",
      "760/760 [==============================] - 1s 2ms/step - loss: 0.0018 - val_loss: 6.9474e-05\n",
      "Epoch 164/200\n",
      "760/760 [==============================] - 2s 2ms/step - loss: 0.0017 - val_loss: 1.2543e-04\n",
      "Epoch 165/200\n",
      "760/760 [==============================] - 2s 2ms/step - loss: 0.0021 - val_loss: 4.7828e-05\n",
      "Epoch 166/200\n",
      "760/760 [==============================] - 2s 2ms/step - loss: 0.0019 - val_loss: 1.6276e-04\n",
      "Epoch 167/200\n",
      "760/760 [==============================] - 2s 2ms/step - loss: 0.0017 - val_loss: 7.0598e-05\n",
      "Epoch 168/200\n",
      "760/760 [==============================] - 2s 2ms/step - loss: 0.0017 - val_loss: 1.4297e-04\n",
      "Epoch 169/200\n",
      "760/760 [==============================] - 2s 2ms/step - loss: 0.0019 - val_loss: 1.7765e-05\n",
      "Epoch 170/200\n",
      "760/760 [==============================] - 2s 2ms/step - loss: 0.0019 - val_loss: 9.3273e-05\n",
      "Epoch 171/200\n",
      "760/760 [==============================] - 2s 2ms/step - loss: 0.0018 - val_loss: 2.4326e-04\n",
      "Epoch 172/200\n",
      "760/760 [==============================] - 2s 2ms/step - loss: 0.0018 - val_loss: 2.2417e-04\n",
      "Epoch 173/200\n",
      "760/760 [==============================] - 2s 2ms/step - loss: 0.0022 - val_loss: 1.3707e-05\n",
      "Epoch 174/200\n",
      "760/760 [==============================] - 2s 2ms/step - loss: 0.0019 - val_loss: 1.7060e-04\n",
      "Epoch 175/200\n",
      "760/760 [==============================] - 2s 2ms/step - loss: 0.0019 - val_loss: 1.6140e-04\n",
      "Epoch 176/200\n",
      "760/760 [==============================] - 2s 2ms/step - loss: 0.0020 - val_loss: 3.2475e-04\n",
      "Epoch 177/200\n",
      "760/760 [==============================] - 2s 2ms/step - loss: 0.0018 - val_loss: 1.0718e-04\n",
      "Epoch 178/200\n",
      "760/760 [==============================] - 2s 2ms/step - loss: 0.0019 - val_loss: 1.9099e-04\n",
      "Epoch 179/200\n",
      "760/760 [==============================] - 1s 2ms/step - loss: 0.0020 - val_loss: 3.1652e-04\n",
      "Epoch 180/200\n",
      "760/760 [==============================] - 1s 2ms/step - loss: 0.0020 - val_loss: 2.0211e-04\n",
      "Epoch 181/200\n",
      "760/760 [==============================] - 1s 2ms/step - loss: 0.0018 - val_loss: 2.0162e-04\n",
      "Epoch 182/200\n",
      "760/760 [==============================] - 2s 2ms/step - loss: 0.0018 - val_loss: 1.6244e-05\n",
      "Epoch 183/200\n",
      "760/760 [==============================] - 1s 2ms/step - loss: 0.0021 - val_loss: 1.0066e-04\n",
      "Epoch 184/200\n",
      "760/760 [==============================] - 1s 2ms/step - loss: 0.0019 - val_loss: 5.9602e-05\n",
      "Epoch 185/200\n",
      "760/760 [==============================] - 1s 2ms/step - loss: 0.0021 - val_loss: 4.0736e-04\n",
      "Epoch 186/200\n",
      "760/760 [==============================] - 2s 2ms/step - loss: 0.0018 - val_loss: 1.9982e-04\n",
      "Epoch 187/200\n",
      "760/760 [==============================] - 2s 2ms/step - loss: 0.0019 - val_loss: 2.6016e-05\n",
      "Epoch 188/200\n",
      "760/760 [==============================] - 2s 2ms/step - loss: 0.0018 - val_loss: 1.3395e-04\n",
      "Epoch 189/200\n",
      "760/760 [==============================] - 2s 2ms/step - loss: 0.0019 - val_loss: 1.6405e-05\n",
      "Epoch 190/200\n",
      "760/760 [==============================] - 2s 2ms/step - loss: 0.0018 - val_loss: 1.3674e-04\n",
      "Epoch 191/200\n",
      "760/760 [==============================] - 2s 2ms/step - loss: 0.0022 - val_loss: 5.7154e-04\n",
      "Epoch 192/200\n",
      "760/760 [==============================] - 2s 2ms/step - loss: 0.0021 - val_loss: 2.1890e-05\n",
      "Epoch 193/200\n",
      "760/760 [==============================] - 2s 2ms/step - loss: 0.0018 - val_loss: 6.5305e-05\n",
      "Epoch 194/200\n",
      "760/760 [==============================] - 2s 2ms/step - loss: 0.0018 - val_loss: 4.1046e-04\n",
      "Epoch 195/200\n",
      "760/760 [==============================] - 2s 2ms/step - loss: 0.0019 - val_loss: 4.5569e-04\n",
      "Epoch 196/200\n",
      "760/760 [==============================] - 2s 2ms/step - loss: 0.0019 - val_loss: 6.0325e-05\n",
      "Epoch 197/200\n",
      "760/760 [==============================] - 2s 2ms/step - loss: 0.0019 - val_loss: 4.5431e-04\n",
      "Epoch 198/200\n",
      "760/760 [==============================] - 2s 2ms/step - loss: 0.0020 - val_loss: 1.7030e-05\n",
      "Epoch 199/200\n",
      "760/760 [==============================] - 2s 2ms/step - loss: 0.0018 - val_loss: 2.7949e-05\n",
      "Epoch 200/200\n",
      "760/760 [==============================] - 1s 2ms/step - loss: 0.0017 - val_loss: 1.3152e-04\n"
     ]
    }
   ],
   "source": [
    "# 4. 모델 학습시키기\n",
    "hist = model.fit(x_train, y_train, epochs=200, batch_size=32, validation_data=(x_val, y_val))"
   ]
  },
  {
   "cell_type": "code",
   "execution_count": 54,
   "metadata": {},
   "outputs": [
    {
     "data": {
      "image/png": "[encoded data removed]",
      "text/plain": [
       "<Figure size 432x288 with 1 Axes>"
      ]
     },
     "metadata": {},
     "output_type": "display_data"
    }
   ],
   "source": [
    "# 5. 학습과정 살펴보기\n",
    "plt.plot(hist.history['loss'])\n",
    "plt.plot(hist.history['val_loss'])\n",
    "plt.ylim(0.0, 0.15)\n",
    "plt.ylabel('loss')\n",
    "plt.xlabel('epoch')\n",
    "plt.legend(['train', 'val'], loc='upper left')\n",
    "plt.show()"
   ]
  },
  {
   "cell_type": "code",
   "execution_count": 55,
   "metadata": {},
   "outputs": [
    {
     "name": "stdout",
     "output_type": "stream",
     "text": [
      "Train Score:  0.00012758577569528778\n",
      "Validataion Score:  0.0001315217093279999\n",
      "Test Score:  0.0001315217093279999\n"
     ]
    }
   ],
   "source": [
    "# 6. 모델 평가하기\n",
    "trainScore = model.evaluate(x_train, y_train, verbose=0)\n",
    "model.reset_states()\n",
    "print('Train Score: ', trainScore)\n",
    "valScore = model.evaluate(x_val, y_val, verbose=0)\n",
    "model.reset_states()\n",
    "print('Validataion Score: ', valScore)\n",
    "testScore = model.evaluate(x_test, y_test, verbose=0)\n",
    "model.reset_states()\n",
    "print('Test Score: ', testScore)\n"
   ]
  },
  {
   "cell_type": "code",
   "execution_count": 56,
   "metadata": {},
   "outputs": [
    {
     "data": {
      "image/png": "[encoded data removed]",
      "text/plain": [
       "<Figure size 864x360 with 1 Axes>"
      ]
     },
     "metadata": {},
     "output_type": "display_data"
    }
   ],
   "source": [
    "# 7. 모델 사용하기\n",
    "look_ahead = 250\n",
    "xhat = x_test[0]\n",
    "predictions = np.zeros((look_ahead,1))\n",
    "for i in range(look_ahead):\n",
    "    prediction = model.predict(np.array([xhat]), batch_size=1)\n",
    "    predictions[i] = prediction\n",
    "    xhat = np.vstack([xhat[1:],prediction])\n",
    "    \n",
    "plt.figure(figsize=(12,5))\n",
    "plt.plot(np.arange(look_ahead),predictions,'r',label=\"prediction\")\n",
    "plt.plot(np.arange(look_ahead),y_test[:look_ahead],label=\"test function\")\n",
    "plt.legend()\n",
    "plt.show()"
   ]
  },
  {
   "cell_type": "code",
   "execution_count": null,
   "metadata": {},
   "outputs": [],
   "source": []
  }
 ],
 "metadata": {
  "kernelspec": {
   "display_name": "Python 3",
   "language": "python",
   "name": "python3"
  },
  "language_info": {
   "codemirror_mode": {
    "name": "ipython",
    "version": 3
   },
   "file_extension": ".py",
   "mimetype": "text/x-python",
   "name": "python",
   "nbconvert_exporter": "python",
   "pygments_lexer": "ipython3",
   "version": "3.5.2"
  }
 },
 "nbformat": 4,
 "nbformat_minor": 2
}
