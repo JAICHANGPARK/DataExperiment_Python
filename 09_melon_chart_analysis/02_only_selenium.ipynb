{
 "cells": [
  {
   "cell_type": "code",
   "execution_count": 1,
   "metadata": {},
   "outputs": [],
   "source": [
    "from selenium import webdriver\n",
    "driver =webdriver.Chrome('./chromedriver.exe')\n",
    "url = 'https://www.melon.com/chart/index.htm'\n",
    "driver.get(url)"
   ]
  },
  {
   "cell_type": "code",
   "execution_count": 5,
   "metadata": {},
   "outputs": [],
   "source": [
    "songs = driver.find_elements_by_css_selector('#lst50')"
   ]
  },
  {
   "cell_type": "code",
   "execution_count": 6,
   "metadata": {},
   "outputs": [
    {
     "name": "stdout",
     "output_type": "stream",
     "text": [
      "[<selenium.webdriver.remote.webelement.WebElement (session=\"5f2ea7b92f95b15fcaf2b7c8be7a7eb6\", element=\"d5d59fba-7546-45d9-836a-8967180d191b\")>, <selenium.webdriver.remote.webelement.WebElement (session=\"5f2ea7b92f95b15fcaf2b7c8be7a7eb6\", element=\"38549571-2575-4da8-a09d-3582d4f1b484\")>, <selenium.webdriver.remote.webelement.WebElement (session=\"5f2ea7b92f95b15fcaf2b7c8be7a7eb6\", element=\"8cd91622-54cd-4576-860c-18a03254541c\")>, <selenium.webdriver.remote.webelement.WebElement (session=\"5f2ea7b92f95b15fcaf2b7c8be7a7eb6\", element=\"d253a94f-2cd0-4b50-bd9b-53c79fcf63cd\")>, <selenium.webdriver.remote.webelement.WebElement (session=\"5f2ea7b92f95b15fcaf2b7c8be7a7eb6\", element=\"ac944c0d-c407-4b58-82ec-671d0e65778b\")>, <selenium.webdriver.remote.webelement.WebElement (session=\"5f2ea7b92f95b15fcaf2b7c8be7a7eb6\", element=\"d5bad88e-ea0c-4bc9-bd86-b23e221ddf68\")>, <selenium.webdriver.remote.webelement.WebElement (session=\"5f2ea7b92f95b15fcaf2b7c8be7a7eb6\", element=\"5dc013a0-eae0-49dc-8f90-476fdb9a5190\")>, <selenium.webdriver.remote.webelement.WebElement (session=\"5f2ea7b92f95b15fcaf2b7c8be7a7eb6\", element=\"fd3c0e73-80a5-4221-a514-45bedea65473\")>, <selenium.webdriver.remote.webelement.WebElement (session=\"5f2ea7b92f95b15fcaf2b7c8be7a7eb6\", element=\"e06b6ecb-39f6-44b2-904a-66cbd33aec99\")>, <selenium.webdriver.remote.webelement.WebElement (session=\"5f2ea7b92f95b15fcaf2b7c8be7a7eb6\", element=\"07c912d7-41c8-45a7-9ba5-c0c7fe72e4e8\")>, <selenium.webdriver.remote.webelement.WebElement (session=\"5f2ea7b92f95b15fcaf2b7c8be7a7eb6\", element=\"fcdff8be-c7f5-423d-9037-6dc4b1e637ac\")>, <selenium.webdriver.remote.webelement.WebElement (session=\"5f2ea7b92f95b15fcaf2b7c8be7a7eb6\", element=\"27b86e7a-52f2-471e-bfb0-dcad59893614\")>, <selenium.webdriver.remote.webelement.WebElement (session=\"5f2ea7b92f95b15fcaf2b7c8be7a7eb6\", element=\"c19f21a9-b2d0-42ca-bc7b-31da07596b13\")>, <selenium.webdriver.remote.webelement.WebElement (session=\"5f2ea7b92f95b15fcaf2b7c8be7a7eb6\", element=\"6a5e0562-19e8-427f-9949-eb4febfb82f8\")>, <selenium.webdriver.remote.webelement.WebElement (session=\"5f2ea7b92f95b15fcaf2b7c8be7a7eb6\", element=\"fb98cafb-cb10-4135-ab42-a39905459305\")>, <selenium.webdriver.remote.webelement.WebElement (session=\"5f2ea7b92f95b15fcaf2b7c8be7a7eb6\", element=\"2bb122d8-09fc-4a3b-9bb2-1e639679f647\")>, <selenium.webdriver.remote.webelement.WebElement (session=\"5f2ea7b92f95b15fcaf2b7c8be7a7eb6\", element=\"e78c0288-15a1-40f0-84aa-df8132ebced4\")>, <selenium.webdriver.remote.webelement.WebElement (session=\"5f2ea7b92f95b15fcaf2b7c8be7a7eb6\", element=\"b102da2a-cff3-4efc-989b-f09a006b774f\")>, <selenium.webdriver.remote.webelement.WebElement (session=\"5f2ea7b92f95b15fcaf2b7c8be7a7eb6\", element=\"2691ce84-0dd6-4fad-8faf-de3a06b64def\")>, <selenium.webdriver.remote.webelement.WebElement (session=\"5f2ea7b92f95b15fcaf2b7c8be7a7eb6\", element=\"8b2e867d-886a-4f70-9923-ba9f9322e5d3\")>, <selenium.webdriver.remote.webelement.WebElement (session=\"5f2ea7b92f95b15fcaf2b7c8be7a7eb6\", element=\"20034d87-17f6-405f-9707-bed5678b5426\")>, <selenium.webdriver.remote.webelement.WebElement (session=\"5f2ea7b92f95b15fcaf2b7c8be7a7eb6\", element=\"7a07d22e-c5bf-48e8-9202-bd8817b05857\")>, <selenium.webdriver.remote.webelement.WebElement (session=\"5f2ea7b92f95b15fcaf2b7c8be7a7eb6\", element=\"1df1d0db-f198-4923-aee6-add6e9ac7db2\")>, <selenium.webdriver.remote.webelement.WebElement (session=\"5f2ea7b92f95b15fcaf2b7c8be7a7eb6\", element=\"f9882009-0819-4601-b911-a929863dafb1\")>, <selenium.webdriver.remote.webelement.WebElement (session=\"5f2ea7b92f95b15fcaf2b7c8be7a7eb6\", element=\"8f1c2a39-3cda-4a4f-b94c-b037ff5e4f5f\")>, <selenium.webdriver.remote.webelement.WebElement (session=\"5f2ea7b92f95b15fcaf2b7c8be7a7eb6\", element=\"c290cebf-bfdb-4970-ad4e-91e943048ae3\")>, <selenium.webdriver.remote.webelement.WebElement (session=\"5f2ea7b92f95b15fcaf2b7c8be7a7eb6\", element=\"849c345e-810f-4eff-9f2c-7473f45b53e3\")>, <selenium.webdriver.remote.webelement.WebElement (session=\"5f2ea7b92f95b15fcaf2b7c8be7a7eb6\", element=\"20758ea0-8881-464f-8604-441bfedc030f\")>, <selenium.webdriver.remote.webelement.WebElement (session=\"5f2ea7b92f95b15fcaf2b7c8be7a7eb6\", element=\"e04fbc7b-d973-4a13-9260-cd0279330ef4\")>, <selenium.webdriver.remote.webelement.WebElement (session=\"5f2ea7b92f95b15fcaf2b7c8be7a7eb6\", element=\"01e0f80a-785e-46ed-bede-653912254222\")>, <selenium.webdriver.remote.webelement.WebElement (session=\"5f2ea7b92f95b15fcaf2b7c8be7a7eb6\", element=\"54f8edca-d7fc-41c3-8a41-ccbedfcb784e\")>, <selenium.webdriver.remote.webelement.WebElement (session=\"5f2ea7b92f95b15fcaf2b7c8be7a7eb6\", element=\"05a3b2b3-ae55-4bbd-a949-407607d9ceff\")>, <selenium.webdriver.remote.webelement.WebElement (session=\"5f2ea7b92f95b15fcaf2b7c8be7a7eb6\", element=\"92a7471f-c189-4056-8241-ffb45b4ae187\")>, <selenium.webdriver.remote.webelement.WebElement (session=\"5f2ea7b92f95b15fcaf2b7c8be7a7eb6\", element=\"f2d4e3f3-09b7-4e2c-bb17-379dc545e2ff\")>, <selenium.webdriver.remote.webelement.WebElement (session=\"5f2ea7b92f95b15fcaf2b7c8be7a7eb6\", element=\"9ff3acd9-0962-4349-93b1-994d18ecc32f\")>, <selenium.webdriver.remote.webelement.WebElement (session=\"5f2ea7b92f95b15fcaf2b7c8be7a7eb6\", element=\"0a79dd83-7c82-44ca-9e54-ce3d7f32aca9\")>, <selenium.webdriver.remote.webelement.WebElement (session=\"5f2ea7b92f95b15fcaf2b7c8be7a7eb6\", element=\"4f08f130-822d-40ba-b92a-1d031569627b\")>, <selenium.webdriver.remote.webelement.WebElement (session=\"5f2ea7b92f95b15fcaf2b7c8be7a7eb6\", element=\"c0055145-dd0b-48ce-970a-c6faeaada824\")>, <selenium.webdriver.remote.webelement.WebElement (session=\"5f2ea7b92f95b15fcaf2b7c8be7a7eb6\", element=\"6f82f6de-dec8-4df6-b2d9-2181d42187a6\")>, <selenium.webdriver.remote.webelement.WebElement (session=\"5f2ea7b92f95b15fcaf2b7c8be7a7eb6\", element=\"2b5f716f-210b-4bfe-8b34-ac2ff605daad\")>, <selenium.webdriver.remote.webelement.WebElement (session=\"5f2ea7b92f95b15fcaf2b7c8be7a7eb6\", element=\"a24677ab-a3aa-4988-814f-06f7a6acc661\")>, <selenium.webdriver.remote.webelement.WebElement (session=\"5f2ea7b92f95b15fcaf2b7c8be7a7eb6\", element=\"be3eb15c-35e8-4a65-971a-9918b0c056fa\")>, <selenium.webdriver.remote.webelement.WebElement (session=\"5f2ea7b92f95b15fcaf2b7c8be7a7eb6\", element=\"9fdb3136-c57c-46dd-aec3-105f37912a72\")>, <selenium.webdriver.remote.webelement.WebElement (session=\"5f2ea7b92f95b15fcaf2b7c8be7a7eb6\", element=\"39c0b706-adaf-4903-9ae7-72b105330c5b\")>, <selenium.webdriver.remote.webelement.WebElement (session=\"5f2ea7b92f95b15fcaf2b7c8be7a7eb6\", element=\"7d9f4b6b-0cf1-42de-ae95-57c8ae32006e\")>, <selenium.webdriver.remote.webelement.WebElement (session=\"5f2ea7b92f95b15fcaf2b7c8be7a7eb6\", element=\"ad108fad-803c-4c01-8207-f593851bd095\")>, <selenium.webdriver.remote.webelement.WebElement (session=\"5f2ea7b92f95b15fcaf2b7c8be7a7eb6\", element=\"08da3d2d-677f-4702-80a9-db2224efaea1\")>, <selenium.webdriver.remote.webelement.WebElement (session=\"5f2ea7b92f95b15fcaf2b7c8be7a7eb6\", element=\"65e3a183-1d4e-49a6-9991-cbaba89ce61d\")>, <selenium.webdriver.remote.webelement.WebElement (session=\"5f2ea7b92f95b15fcaf2b7c8be7a7eb6\", element=\"afb5e3e6-120d-4a6f-bf1d-87d3cd0e2d49\")>, <selenium.webdriver.remote.webelement.WebElement (session=\"5f2ea7b92f95b15fcaf2b7c8be7a7eb6\", element=\"cd6eac0c-7cae-4c13-9b7f-3fee9bb21d98\")>]\n"
     ]
    }
   ],
   "source": [
    "print(songs)"
   ]
  },
  {
   "cell_type": "code",
   "execution_count": 7,
   "metadata": {},
   "outputs": [
    {
     "data": {
      "text/plain": [
       "50"
      ]
     },
     "execution_count": 7,
     "metadata": {},
     "output_type": "execute_result"
    }
   ],
   "source": [
    "len(songs)"
   ]
  },
  {
   "cell_type": "code",
   "execution_count": 8,
   "metadata": {},
   "outputs": [
    {
     "name": "stdout",
     "output_type": "stream",
     "text": [
      "ON\n",
      "00:00 (Zero O’Clock)\n",
      "Black Swan\n",
      "친구\n",
      "Filter\n",
      "시차\n",
      "Moon\n",
      "Inner Child\n",
      "마음을 드려요\n",
      "욱 (UGH!)\n",
      "Louder than bombs\n",
      "아무노래\n",
      "We are Bulletproof : the Eternal\n",
      "Interlude : Shadow\n",
      "Respect\n",
      "작은 것들을 위한 시 (Boy With Luv) (Feat. Halsey)\n",
      "Outro : Ego\n",
      "FIESTA\n",
      "METEOR\n",
      "둘만의 세상으로 가\n",
      "다시 난, 여기\n",
      "Psycho\n",
      "Blueming\n",
      "늦은 밤 너의 집 앞 골목길에서\n",
      "흔들리는 꽃들 속에서 네 샴푸향이 느껴진거야\n",
      "너를 사랑하고 있어\n",
      "HIP\n",
      "시작\n",
      "어떤 날엔\n",
      "어떻게 이별까지 사랑하겠어, 널 사랑하는 거지\n",
      "아마두 (feat.우원재, 김효은, 넉살, Huckleberry P)\n",
      "오늘도 빛나는 너에게 (To You My Light) (Feat.이라온)\n",
      "빌었어\n",
      "Love poem\n",
      "Say\n",
      "Square (2017)\n",
      "마음이 말하는 행복 (Happiness) (Feat.이라온)\n",
      "Flower\n",
      "사랑이란 멜로는 없어\n",
      "내 마음의 사진\n",
      "안녕\n",
      "2002\n",
      "조금 취했어 (Prod. 2soo)\n",
      "그때 그 아인\n",
      "다시는 사랑하지 않고, 이별에 아파하기 싫어\n",
      "봄날\n",
      "다시 만날까 봐\n",
      "나의 오랜 연인에게\n",
      "모든 날, 모든 순간 (Every day, Every Moment)\n",
      "잘 지내고 있는지 궁금해\n"
     ]
    }
   ],
   "source": [
    "for song in songs:\n",
    "    title = song.find_elements_by_css_selector('div.ellipsis.rank01 > span > a')[0].text\n",
    "    print(title)"
   ]
  },
  {
   "cell_type": "code",
   "execution_count": 10,
   "metadata": {},
   "outputs": [
    {
     "name": "stdout",
     "output_type": "stream",
     "text": [
      "ON|방탄소년단\n",
      "00:00 (Zero O’Clock)|방탄소년단\n",
      "Black Swan|방탄소년단\n",
      "친구|방탄소년단\n",
      "Filter|방탄소년단\n",
      "시차|방탄소년단\n",
      "Moon|방탄소년단\n",
      "Inner Child|방탄소년단\n",
      "마음을 드려요|아이유\n",
      "욱 (UGH!)|방탄소년단\n",
      "Louder than bombs|방탄소년단\n",
      "아무노래|지코 (ZICO)\n",
      "We are Bulletproof : the Eternal|방탄소년단\n",
      "Interlude : Shadow|방탄소년단\n",
      "Respect|방탄소년단\n",
      "작은 것들을 위한 시 (Boy With Luv) (Feat. Halsey)|방탄소년단\n",
      "Outro : Ego|방탄소년단\n",
      "FIESTA|IZ*ONE (아이즈원)\n",
      "METEOR|창모 (CHANGMO)\n",
      "둘만의 세상으로 가|Crush\n",
      "다시 난, 여기|백예린\n",
      "Psycho|Red Velvet (레드벨벳)\n",
      "Blueming|아이유\n",
      "늦은 밤 너의 집 앞 골목길에서|노을\n",
      "흔들리는 꽃들 속에서 네 샴푸향이 느껴진거야|장범준\n",
      "너를 사랑하고 있어|백현 (BAEKHYUN)\n",
      "HIP|마마무 (Mamamoo)\n",
      "시작|가호 (Gaho)\n",
      "어떤 날엔|김재환\n",
      "어떻게 이별까지 사랑하겠어, 널 사랑하는 거지|AKMU (악동뮤지션)\n",
      "아마두 (feat.우원재, 김효은, 넉살, Huckleberry P)|염따\n",
      "오늘도 빛나는 너에게 (To You My Light) (Feat.이라온)|마크툽 (MAKTUB)\n",
      "빌었어|창모 (CHANGMO)\n",
      "Love poem|아이유\n",
      "Say|윤미래\n",
      "Square (2017)|백예린\n",
      "마음이 말하는 행복 (Happiness) (Feat.이라온)|마크툽 (MAKTUB)\n",
      "Flower|윤미래\n",
      "사랑이란 멜로는 없어|전상근\n",
      "내 마음의 사진|송가인\n",
      "안녕|폴킴\n",
      "2002|Anne-Marie\n",
      "조금 취했어 (Prod. 2soo)|임재현\n",
      "그때 그 아인|김필\n",
      "다시는 사랑하지 않고, 이별에 아파하기 싫어|백지영\n",
      "봄날|방탄소년단\n",
      "다시 만날까 봐|V.O.S\n",
      "나의 오랜 연인에게|다비치\n",
      "모든 날, 모든 순간 (Every day, Every Moment)|폴킴\n",
      "잘 지내고 있는지 궁금해|V.O.S\n"
     ]
    }
   ],
   "source": [
    "for song in songs:\n",
    "    title = song.find_elements_by_css_selector('div.ellipsis.rank01 > span > a')[0].text\n",
    "    singer = song.find_elements_by_css_selector('div.ellipsis.rank02 > a')[0].text\n",
    "    print(title, singer, sep='|')"
   ]
  },
  {
   "cell_type": "code",
   "execution_count": null,
   "metadata": {},
   "outputs": [],
   "source": []
  }
 ],
 "metadata": {
  "kernelspec": {
   "display_name": "Python 3",
   "language": "python",
   "name": "python3"
  },
  "language_info": {
   "codemirror_mode": {
    "name": "ipython",
    "version": 3
   },
   "file_extension": ".py",
   "mimetype": "text/x-python",
   "name": "python",
   "nbconvert_exporter": "python",
   "pygments_lexer": "ipython3",
   "version": "3.6.5"
  }
 },
 "nbformat": 4,
 "nbformat_minor": 2
}
