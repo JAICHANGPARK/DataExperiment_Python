{
 "cells": [
  {
   "cell_type": "code",
   "execution_count": 2,
   "metadata": {},
   "outputs": [],
   "source": [
    "import urllib.request\n",
    "from bs4 import BeautifulSoup"
   ]
  },
  {
   "cell_type": "code",
   "execution_count": 3,
   "metadata": {},
   "outputs": [],
   "source": [
    "url = \"http://naver.com\"\n",
    "response = urllib.request.urlopen(url)"
   ]
  },
  {
   "cell_type": "code",
   "execution_count": 5,
   "metadata": {},
   "outputs": [
    {
     "data": {
      "text/plain": [
       "<bound method HTTPResponse.read of <http.client.HTTPResponse object at 0x000001BAE21205C0>>"
      ]
     },
     "execution_count": 5,
     "metadata": {},
     "output_type": "execute_result"
    }
   ],
   "source": [
    "response.read"
   ]
  },
  {
   "cell_type": "code",
   "execution_count": 7,
   "metadata": {},
   "outputs": [],
   "source": [
    "url = \"http://finance.naver.com/marketindex/\"\n",
    "response = urllib.request.urlopen(url)\n",
    "soup = BeautifulSoup(response, \"html.parser\")\n",
    "\n",
    "results = soup.select(\"span.value\")"
   ]
  },
  {
   "cell_type": "code",
   "execution_count": 8,
   "metadata": {},
   "outputs": [
    {
     "name": "stdout",
     "output_type": "stream",
     "text": [
      "1,108.00\n",
      "1,005.49\n",
      "1,281.96\n",
      "171.00\n",
      "109.8400\n",
      "1.1563\n",
      "1.3170\n",
      "94.7200\n",
      "65.07\n",
      "1609.03\n",
      "1275.6\n",
      "45364.74\n"
     ]
    }
   ],
   "source": [
    "for result in results:\n",
    "    print(result.string)"
   ]
  },
  {
   "cell_type": "code",
   "execution_count": 43,
   "metadata": {},
   "outputs": [],
   "source": [
    "url = \"http://news.naver.com/main/main.nhn?mode=LSD&mid=shm&sid1=105\"\n",
    "response = urllib.request.urlopen(url)\n",
    "soup = BeautifulSoup(response, \"html.parser\")\n",
    "\n",
    "results = soup.findAll('div')"
   ]
  },
  {
   "cell_type": "code",
   "execution_count": null,
   "metadata": {},
   "outputs": [],
   "source": []
  }
 ],
 "metadata": {
  "kernelspec": {
   "display_name": "Python 3",
   "language": "python",
   "name": "python3"
  },
  "language_info": {
   "codemirror_mode": {
    "name": "ipython",
    "version": 3
   },
   "file_extension": ".py",
   "mimetype": "text/x-python",
   "name": "python",
   "nbconvert_exporter": "python",
   "pygments_lexer": "ipython3",
   "version": "3.5.2"
  }
 },
 "nbformat": 4,
 "nbformat_minor": 2
}
