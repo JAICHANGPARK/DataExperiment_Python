{
 "cells": [
  {
   "cell_type": "code",
   "execution_count": 1,
   "metadata": {},
   "outputs": [],
   "source": [
    "import openpyxl"
   ]
  },
  {
   "cell_type": "code",
   "execution_count": 3,
   "metadata": {},
   "outputs": [],
   "source": [
    "class Conversation:\n",
    "    def __init__(self, contentName, contentType, question, answer):\n",
    "        self.contentName = contentName\n",
    "        self.contentType = contentType\n",
    "        self.question = question\n",
    "        self.answer = answer\n",
    "        \n",
    "    def __str__(self):\n",
    "        return \"질문: \" + self.question + \"\\n 답변: \" + self.answer + \"\\n\""
   ]
  },
  {
   "cell_type": "code",
   "execution_count": 18,
   "metadata": {
    "scrolled": true
   },
   "outputs": [
    {
     "ename": "TypeError",
     "evalue": "expected <class 'str'>",
     "output_type": "error",
     "traceback": [
      "\u001b[1;31m---------------------------------------------------------------------------\u001b[0m",
      "\u001b[1;31mTypeError\u001b[0m                                 Traceback (most recent call last)",
      "\u001b[1;32m<ipython-input-18-59e55e8ab3b6>\u001b[0m in \u001b[0;36m<module>\u001b[1;34m()\u001b[0m\n\u001b[1;32m----> 1\u001b[1;33m \u001b[0mwb\u001b[0m \u001b[1;33m=\u001b[0m \u001b[0mopenpyxl\u001b[0m\u001b[1;33m.\u001b[0m\u001b[0mload_workbook\u001b[0m\u001b[1;33m(\u001b[0m\u001b[1;34m\"input2.xlsx\"\u001b[0m\u001b[1;33m)\u001b[0m\u001b[1;33m\u001b[0m\u001b[0m\n\u001b[0m",
      "\u001b[1;32mc:\\users\\home613\\appdata\\local\\programs\\python\\python36\\lib\\site-packages\\openpyxl\\reader\\excel.py\u001b[0m in \u001b[0;36mload_workbook\u001b[1;34m(filename, read_only, keep_vba, data_only, guess_types, keep_links)\u001b[0m\n\u001b[0;32m    221\u001b[0m         \u001b[0mwb\u001b[0m\u001b[1;33m.\u001b[0m\u001b[0mloaded_theme\u001b[0m \u001b[1;33m=\u001b[0m \u001b[0marchive\u001b[0m\u001b[1;33m.\u001b[0m\u001b[0mread\u001b[0m\u001b[1;33m(\u001b[0m\u001b[0mARC_THEME\u001b[0m\u001b[1;33m)\u001b[0m\u001b[1;33m\u001b[0m\u001b[0m\n\u001b[0;32m    222\u001b[0m \u001b[1;33m\u001b[0m\u001b[0m\n\u001b[1;32m--> 223\u001b[1;33m     \u001b[0mapply_stylesheet\u001b[0m\u001b[1;33m(\u001b[0m\u001b[0marchive\u001b[0m\u001b[1;33m,\u001b[0m \u001b[0mwb\u001b[0m\u001b[1;33m)\u001b[0m \u001b[1;31m# bind styles to workbook\u001b[0m\u001b[1;33m\u001b[0m\u001b[0m\n\u001b[0m\u001b[0;32m    224\u001b[0m     \u001b[0mpivot_caches\u001b[0m \u001b[1;33m=\u001b[0m \u001b[0mparser\u001b[0m\u001b[1;33m.\u001b[0m\u001b[0mpivot_caches\u001b[0m\u001b[1;33m\u001b[0m\u001b[0m\n\u001b[0;32m    225\u001b[0m \u001b[1;33m\u001b[0m\u001b[0m\n",
      "\u001b[1;32mc:\\users\\home613\\appdata\\local\\programs\\python\\python36\\lib\\site-packages\\openpyxl\\styles\\stylesheet.py\u001b[0m in \u001b[0;36mapply_stylesheet\u001b[1;34m(archive, wb)\u001b[0m\n\u001b[0;32m    176\u001b[0m \u001b[1;33m\u001b[0m\u001b[0m\n\u001b[0;32m    177\u001b[0m     \u001b[0mnode\u001b[0m \u001b[1;33m=\u001b[0m \u001b[0mfromstring\u001b[0m\u001b[1;33m(\u001b[0m\u001b[0msrc\u001b[0m\u001b[1;33m)\u001b[0m\u001b[1;33m\u001b[0m\u001b[0m\n\u001b[1;32m--> 178\u001b[1;33m     \u001b[0mstylesheet\u001b[0m \u001b[1;33m=\u001b[0m \u001b[0mStylesheet\u001b[0m\u001b[1;33m.\u001b[0m\u001b[0mfrom_tree\u001b[0m\u001b[1;33m(\u001b[0m\u001b[0mnode\u001b[0m\u001b[1;33m)\u001b[0m\u001b[1;33m\u001b[0m\u001b[0m\n\u001b[0m\u001b[0;32m    179\u001b[0m \u001b[1;33m\u001b[0m\u001b[0m\n\u001b[0;32m    180\u001b[0m     \u001b[0mwb\u001b[0m\u001b[1;33m.\u001b[0m\u001b[0m_borders\u001b[0m \u001b[1;33m=\u001b[0m \u001b[0mIndexedList\u001b[0m\u001b[1;33m(\u001b[0m\u001b[0mstylesheet\u001b[0m\u001b[1;33m.\u001b[0m\u001b[0mborders\u001b[0m\u001b[1;33m)\u001b[0m\u001b[1;33m\u001b[0m\u001b[0m\n",
      "\u001b[1;32mc:\\users\\home613\\appdata\\local\\programs\\python\\python36\\lib\\site-packages\\openpyxl\\styles\\stylesheet.py\u001b[0m in \u001b[0;36mfrom_tree\u001b[1;34m(cls, node)\u001b[0m\n\u001b[0;32m     98\u001b[0m         \u001b[1;32mfor\u001b[0m \u001b[0mk\u001b[0m \u001b[1;32min\u001b[0m \u001b[0mattrs\u001b[0m\u001b[1;33m:\u001b[0m\u001b[1;33m\u001b[0m\u001b[0m\n\u001b[0;32m     99\u001b[0m             \u001b[1;32mdel\u001b[0m \u001b[0mnode\u001b[0m\u001b[1;33m.\u001b[0m\u001b[0mattrib\u001b[0m\u001b[1;33m[\u001b[0m\u001b[0mk\u001b[0m\u001b[1;33m]\u001b[0m\u001b[1;33m\u001b[0m\u001b[0m\n\u001b[1;32m--> 100\u001b[1;33m         \u001b[1;32mreturn\u001b[0m \u001b[0msuper\u001b[0m\u001b[1;33m(\u001b[0m\u001b[0mStylesheet\u001b[0m\u001b[1;33m,\u001b[0m \u001b[0mcls\u001b[0m\u001b[1;33m)\u001b[0m\u001b[1;33m.\u001b[0m\u001b[0mfrom_tree\u001b[0m\u001b[1;33m(\u001b[0m\u001b[0mnode\u001b[0m\u001b[1;33m)\u001b[0m\u001b[1;33m\u001b[0m\u001b[0m\n\u001b[0m\u001b[0;32m    101\u001b[0m \u001b[1;33m\u001b[0m\u001b[0m\n\u001b[0;32m    102\u001b[0m \u001b[1;33m\u001b[0m\u001b[0m\n",
      "\u001b[1;32mc:\\users\\home613\\appdata\\local\\programs\\python\\python36\\lib\\site-packages\\openpyxl\\descriptors\\serialisable.py\u001b[0m in \u001b[0;36mfrom_tree\u001b[1;34m(cls, node)\u001b[0m\n\u001b[0;32m     82\u001b[0m                 \u001b[1;32mif\u001b[0m \u001b[0mhasattr\u001b[0m\u001b[1;33m(\u001b[0m\u001b[0mdesc\u001b[0m\u001b[1;33m.\u001b[0m\u001b[0mexpected_type\u001b[0m\u001b[1;33m,\u001b[0m \u001b[1;34m\"from_tree\"\u001b[0m\u001b[1;33m)\u001b[0m\u001b[1;33m:\u001b[0m\u001b[1;33m\u001b[0m\u001b[0m\n\u001b[0;32m     83\u001b[0m                     \u001b[1;31m#complex type\u001b[0m\u001b[1;33m\u001b[0m\u001b[1;33m\u001b[0m\u001b[0m\n\u001b[1;32m---> 84\u001b[1;33m                     \u001b[0mobj\u001b[0m \u001b[1;33m=\u001b[0m \u001b[0mdesc\u001b[0m\u001b[1;33m.\u001b[0m\u001b[0mexpected_type\u001b[0m\u001b[1;33m.\u001b[0m\u001b[0mfrom_tree\u001b[0m\u001b[1;33m(\u001b[0m\u001b[0mel\u001b[0m\u001b[1;33m)\u001b[0m\u001b[1;33m\u001b[0m\u001b[0m\n\u001b[0m\u001b[0;32m     85\u001b[0m                 \u001b[1;32melse\u001b[0m\u001b[1;33m:\u001b[0m\u001b[1;33m\u001b[0m\u001b[0m\n\u001b[0;32m     86\u001b[0m                     \u001b[1;31m#primitive\u001b[0m\u001b[1;33m\u001b[0m\u001b[1;33m\u001b[0m\u001b[0m\n",
      "\u001b[1;32mc:\\users\\home613\\appdata\\local\\programs\\python\\python36\\lib\\site-packages\\openpyxl\\descriptors\\serialisable.py\u001b[0m in \u001b[0;36mfrom_tree\u001b[1;34m(cls, node)\u001b[0m\n\u001b[0;32m     82\u001b[0m                 \u001b[1;32mif\u001b[0m \u001b[0mhasattr\u001b[0m\u001b[1;33m(\u001b[0m\u001b[0mdesc\u001b[0m\u001b[1;33m.\u001b[0m\u001b[0mexpected_type\u001b[0m\u001b[1;33m,\u001b[0m \u001b[1;34m\"from_tree\"\u001b[0m\u001b[1;33m)\u001b[0m\u001b[1;33m:\u001b[0m\u001b[1;33m\u001b[0m\u001b[0m\n\u001b[0;32m     83\u001b[0m                     \u001b[1;31m#complex type\u001b[0m\u001b[1;33m\u001b[0m\u001b[1;33m\u001b[0m\u001b[0m\n\u001b[1;32m---> 84\u001b[1;33m                     \u001b[0mobj\u001b[0m \u001b[1;33m=\u001b[0m \u001b[0mdesc\u001b[0m\u001b[1;33m.\u001b[0m\u001b[0mexpected_type\u001b[0m\u001b[1;33m.\u001b[0m\u001b[0mfrom_tree\u001b[0m\u001b[1;33m(\u001b[0m\u001b[0mel\u001b[0m\u001b[1;33m)\u001b[0m\u001b[1;33m\u001b[0m\u001b[0m\n\u001b[0m\u001b[0;32m     85\u001b[0m                 \u001b[1;32melse\u001b[0m\u001b[1;33m:\u001b[0m\u001b[1;33m\u001b[0m\u001b[0m\n\u001b[0;32m     86\u001b[0m                     \u001b[1;31m#primitive\u001b[0m\u001b[1;33m\u001b[0m\u001b[1;33m\u001b[0m\u001b[0m\n",
      "\u001b[1;32mc:\\users\\home613\\appdata\\local\\programs\\python\\python36\\lib\\site-packages\\openpyxl\\descriptors\\serialisable.py\u001b[0m in \u001b[0;36mfrom_tree\u001b[1;34m(cls, node)\u001b[0m\n\u001b[0;32m     98\u001b[0m                 \u001b[0mattrib\u001b[0m\u001b[1;33m[\u001b[0m\u001b[0mtag\u001b[0m\u001b[1;33m]\u001b[0m \u001b[1;33m=\u001b[0m \u001b[0mobj\u001b[0m\u001b[1;33m\u001b[0m\u001b[0m\n\u001b[0;32m     99\u001b[0m \u001b[1;33m\u001b[0m\u001b[0m\n\u001b[1;32m--> 100\u001b[1;33m         \u001b[1;32mreturn\u001b[0m \u001b[0mcls\u001b[0m\u001b[1;33m(\u001b[0m\u001b[1;33m**\u001b[0m\u001b[0mattrib\u001b[0m\u001b[1;33m)\u001b[0m\u001b[1;33m\u001b[0m\u001b[0m\n\u001b[0m\u001b[0;32m    101\u001b[0m \u001b[1;33m\u001b[0m\u001b[0m\n\u001b[0;32m    102\u001b[0m \u001b[1;33m\u001b[0m\u001b[0m\n",
      "\u001b[1;32mc:\\users\\home613\\appdata\\local\\programs\\python\\python36\\lib\\site-packages\\openpyxl\\styles\\named_styles.py\u001b[0m in \u001b[0;36m__init__\u001b[1;34m(self, name, xfId, builtinId, iLevel, hidden, customBuiltin, extLst)\u001b[0m\n\u001b[0;32m    228\u001b[0m                  \u001b[0mextLst\u001b[0m\u001b[1;33m=\u001b[0m\u001b[1;32mNone\u001b[0m\u001b[1;33m,\u001b[0m\u001b[1;33m\u001b[0m\u001b[0m\n\u001b[0;32m    229\u001b[0m                 ):\n\u001b[1;32m--> 230\u001b[1;33m         \u001b[0mself\u001b[0m\u001b[1;33m.\u001b[0m\u001b[0mname\u001b[0m \u001b[1;33m=\u001b[0m \u001b[0mname\u001b[0m\u001b[1;33m\u001b[0m\u001b[0m\n\u001b[0m\u001b[0;32m    231\u001b[0m         \u001b[0mself\u001b[0m\u001b[1;33m.\u001b[0m\u001b[0mxfId\u001b[0m \u001b[1;33m=\u001b[0m \u001b[0mxfId\u001b[0m\u001b[1;33m\u001b[0m\u001b[0m\n\u001b[0;32m    232\u001b[0m         \u001b[0mself\u001b[0m\u001b[1;33m.\u001b[0m\u001b[0mbuiltinId\u001b[0m \u001b[1;33m=\u001b[0m \u001b[0mbuiltinId\u001b[0m\u001b[1;33m\u001b[0m\u001b[0m\n",
      "\u001b[1;32mc:\\users\\home613\\appdata\\local\\programs\\python\\python36\\lib\\site-packages\\openpyxl\\descriptors\\base.py\u001b[0m in \u001b[0;36m__set__\u001b[1;34m(self, instance, value)\u001b[0m\n\u001b[0;32m     42\u001b[0m             if (not self.allow_none\n\u001b[0;32m     43\u001b[0m                 or (self.allow_none and value is not None)):\n\u001b[1;32m---> 44\u001b[1;33m                 \u001b[1;32mraise\u001b[0m \u001b[0mTypeError\u001b[0m\u001b[1;33m(\u001b[0m\u001b[1;34m'expected '\u001b[0m \u001b[1;33m+\u001b[0m \u001b[0mstr\u001b[0m\u001b[1;33m(\u001b[0m\u001b[0mself\u001b[0m\u001b[1;33m.\u001b[0m\u001b[0mexpected_type\u001b[0m\u001b[1;33m)\u001b[0m\u001b[1;33m)\u001b[0m\u001b[1;33m\u001b[0m\u001b[0m\n\u001b[0m\u001b[0;32m     45\u001b[0m         \u001b[0msuper\u001b[0m\u001b[1;33m(\u001b[0m\u001b[0mTyped\u001b[0m\u001b[1;33m,\u001b[0m \u001b[0mself\u001b[0m\u001b[1;33m)\u001b[0m\u001b[1;33m.\u001b[0m\u001b[0m__set__\u001b[0m\u001b[1;33m(\u001b[0m\u001b[0minstance\u001b[0m\u001b[1;33m,\u001b[0m \u001b[0mvalue\u001b[0m\u001b[1;33m)\u001b[0m\u001b[1;33m\u001b[0m\u001b[0m\n\u001b[0;32m     46\u001b[0m \u001b[1;33m\u001b[0m\u001b[0m\n",
      "\u001b[1;31mTypeError\u001b[0m: expected <class 'str'>"
     ]
    }
   ],
   "source": [
    "wb = openpyxl.load_workbook(\"input2.xlsx\")"
   ]
  },
  {
   "cell_type": "code",
   "execution_count": 21,
   "metadata": {},
   "outputs": [],
   "source": [
    "import csv\n",
    "f = open('inputs.csv', 'r', encoding='utf-8')\n",
    "rdr = csv.reader(f)\n",
    "\n",
    "conversations = []\n",
    "for line in rdr:\n",
    "    c = Conversation(line[0], line[1], line[2], line[3])\n",
    "    conversations.append(c)\n",
    "f.close()   "
   ]
  },
  {
   "cell_type": "code",
   "execution_count": 22,
   "metadata": {},
   "outputs": [
    {
     "name": "stdout",
     "output_type": "stream",
     "text": [
      "질문: how many people are there in your family?\n",
      " 답변: There are 5 people\n",
      "\n",
      "질문: Does your family live in a house or an apartment?\n",
      " 답변: we live in a house in the countryside\n",
      "\n"
     ]
    }
   ],
   "source": [
    "for c in conversations:\n",
    "    print(c)"
   ]
  },
  {
   "cell_type": "code",
   "execution_count": 23,
   "metadata": {},
   "outputs": [],
   "source": [
    "# -*- coding: utf-8 -*-\n",
    "\n",
    "# 파일로 출력하기\n",
    "\n",
    "i = 1\n",
    "\n",
    "# 출력, 입력 값 JSON 파일을 생성합니다.\n",
    "\n",
    "prev = str(conversations[0].contentName) + str(conversations[0].contentType)\n",
    "\n",
    "f = open(prev + '.json', 'w', encoding='UTF-8')\n",
    "\n",
    "f.write('{ \"id\": \"10d3155d-4468-4118-8f5d-15009af446d0\", \"name\": \"' + prev + '\", \"auto\": true, \"contexts\": [], \"responses\": [ { \"resetContexts\": false, \"affectedContexts\": [], \"parameters\": [], \"messages\": [ { \"type\": 0, \"lang\": \"ko\", \"speech\": \"' + conversations[0].answer + '\" } ], \"defaultResponsePlatforms\": {}, \"speech\": [] } ], \"priority\": 500000, \"webhookUsed\": false, \"webhookForSlotFilling\": false, \"fallbackIntent\": false, \"events\": [] }')\n",
    "\n",
    "f.close()\n",
    "\n",
    "f = open(prev + '_usersays_ko.json', 'w', encoding='UTF-8')\n",
    "\n",
    "f.write(\"[\")\n",
    "\n",
    "f.write('{ \"id\": \"3330d5a3-f38e-48fd-a3e6-000000000001\", \"data\": [ { \"text\": \"' + conversations[0].question + '\", \"userDefined\": false } ], \"isTemplate\": false, \"count\": 0 },')\n",
    "\n",
    "\n",
    "\n",
    "while True:\n",
    "\n",
    "    if i >= len(conversations):\n",
    "\n",
    "        f.write(\"]\")\n",
    "\n",
    "        f.close()\n",
    "\n",
    "        break;\n",
    "\n",
    "    c = conversations[i]\n",
    "\n",
    "    if prev == str(c.contentName) + str(c.contentType):\n",
    "\n",
    "        f.write('{ \"id\": \"3330d5a3-f38e-48fd-a3e6-000000000001\", \"data\": [ { \"text\": \"' + c.question + '\", \"userDefined\": false } ], \"isTemplate\": false, \"count\": 0 },')\n",
    "\n",
    "    else:\n",
    "\n",
    "        f.write(\"]\")\n",
    "\n",
    "        f.close()\n",
    "\n",
    "        # 출력, 입력 값 JSON 파일을 생성합니다.\n",
    "\n",
    "        prev = str(c.contentName) + str(c.contentType)\n",
    "\n",
    "        f = open(prev + '.json', 'w', encoding='UTF-8')\n",
    "\n",
    "        f.write('{ \"id\": \"10d3155d-4468-4118-8f5d-15009af446d0\", \"name\": \"' + prev + '\", \"auto\": true, \"contexts\": [], \"responses\": [ { \"resetContexts\": false, \"affectedContexts\": [], \"parameters\": [], \"messages\": [ { \"type\": 0, \"lang\": \"ko\", \"speech\": \"' + c.answer + '\" } ], \"defaultResponsePlatforms\": {}, \"speech\": [] } ], \"priority\": 500000, \"webhookUsed\": false, \"webhookForSlotFilling\": false, \"fallbackIntent\": false, \"events\": [] }')\n",
    "\n",
    "        f.close()\n",
    "\n",
    "        f = open(prev + '_usersays_ko.json', 'w', encoding='UTF-8')\n",
    "\n",
    "        f.write(\"[\")\n",
    "\n",
    "        f.write('{ \"id\": \"3330d5a3-f38e-48fd-a3e6-000000000001\", \"data\": [ { \"text\": \"' + c.question + '\", \"userDefined\": false } ], \"isTemplate\": false, \"count\": 0 },')\n",
    "\n",
    "    i = i + 1\n",
    "\n"
   ]
  },
  {
   "cell_type": "code",
   "execution_count": null,
   "metadata": {},
   "outputs": [],
   "source": []
  }
 ],
 "metadata": {
  "kernelspec": {
   "display_name": "Python 3",
   "language": "python",
   "name": "python3"
  },
  "language_info": {
   "codemirror_mode": {
    "name": "ipython",
    "version": 3
   },
   "file_extension": ".py",
   "mimetype": "text/x-python",
   "name": "python",
   "nbconvert_exporter": "python",
   "pygments_lexer": "ipython3",
   "version": "3.6.5"
  }
 },
 "nbformat": 4,
 "nbformat_minor": 2
}
